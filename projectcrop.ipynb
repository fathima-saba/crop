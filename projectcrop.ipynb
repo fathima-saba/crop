{
 "cells": [
  {
   "cell_type": "code",
   "execution_count": 1,
   "id": "5cf62203-99e5-4deb-a7cb-041355572b6e",
   "metadata": {},
   "outputs": [],
   "source": [
    "import numpy as np\n",
    "import pandas as pd\n",
    "import matplotlib.pyplot as plt\n",
    "import os\n",
    "import seaborn as sns\n",
    "import warnings #to remove warning message\n",
    "warnings.filterwarnings('ignore')"
   ]
  },
  {
   "cell_type": "code",
   "execution_count": 2,
   "id": "a3fc23ab-20b5-49de-a274-5c24599e58cd",
   "metadata": {},
   "outputs": [
    {
     "data": {
      "text/html": [
       "<div>\n",
       "<style scoped>\n",
       "    .dataframe tbody tr th:only-of-type {\n",
       "        vertical-align: middle;\n",
       "    }\n",
       "\n",
       "    .dataframe tbody tr th {\n",
       "        vertical-align: top;\n",
       "    }\n",
       "\n",
       "    .dataframe thead th {\n",
       "        text-align: right;\n",
       "    }\n",
       "</style>\n",
       "<table border=\"1\" class=\"dataframe\">\n",
       "  <thead>\n",
       "    <tr style=\"text-align: right;\">\n",
       "      <th></th>\n",
       "      <th>N</th>\n",
       "      <th>P</th>\n",
       "      <th>K</th>\n",
       "      <th>temperature</th>\n",
       "      <th>humidity</th>\n",
       "      <th>ph</th>\n",
       "      <th>rainfall</th>\n",
       "      <th>label</th>\n",
       "    </tr>\n",
       "  </thead>\n",
       "  <tbody>\n",
       "    <tr>\n",
       "      <th>0</th>\n",
       "      <td>90</td>\n",
       "      <td>42</td>\n",
       "      <td>43</td>\n",
       "      <td>20.879744</td>\n",
       "      <td>82.002744</td>\n",
       "      <td>6.502985</td>\n",
       "      <td>202.935536</td>\n",
       "      <td>rice</td>\n",
       "    </tr>\n",
       "    <tr>\n",
       "      <th>1</th>\n",
       "      <td>85</td>\n",
       "      <td>58</td>\n",
       "      <td>41</td>\n",
       "      <td>21.770462</td>\n",
       "      <td>80.319644</td>\n",
       "      <td>7.038096</td>\n",
       "      <td>226.655537</td>\n",
       "      <td>rice</td>\n",
       "    </tr>\n",
       "    <tr>\n",
       "      <th>2</th>\n",
       "      <td>60</td>\n",
       "      <td>55</td>\n",
       "      <td>44</td>\n",
       "      <td>23.004459</td>\n",
       "      <td>82.320763</td>\n",
       "      <td>7.840207</td>\n",
       "      <td>263.964248</td>\n",
       "      <td>rice</td>\n",
       "    </tr>\n",
       "    <tr>\n",
       "      <th>3</th>\n",
       "      <td>74</td>\n",
       "      <td>35</td>\n",
       "      <td>40</td>\n",
       "      <td>26.491096</td>\n",
       "      <td>80.158363</td>\n",
       "      <td>6.980401</td>\n",
       "      <td>242.864034</td>\n",
       "      <td>rice</td>\n",
       "    </tr>\n",
       "    <tr>\n",
       "      <th>4</th>\n",
       "      <td>78</td>\n",
       "      <td>42</td>\n",
       "      <td>42</td>\n",
       "      <td>20.130175</td>\n",
       "      <td>81.604873</td>\n",
       "      <td>7.628473</td>\n",
       "      <td>262.717340</td>\n",
       "      <td>rice</td>\n",
       "    </tr>\n",
       "    <tr>\n",
       "      <th>...</th>\n",
       "      <td>...</td>\n",
       "      <td>...</td>\n",
       "      <td>...</td>\n",
       "      <td>...</td>\n",
       "      <td>...</td>\n",
       "      <td>...</td>\n",
       "      <td>...</td>\n",
       "      <td>...</td>\n",
       "    </tr>\n",
       "    <tr>\n",
       "      <th>2195</th>\n",
       "      <td>107</td>\n",
       "      <td>34</td>\n",
       "      <td>32</td>\n",
       "      <td>26.774637</td>\n",
       "      <td>66.413269</td>\n",
       "      <td>6.780064</td>\n",
       "      <td>177.774507</td>\n",
       "      <td>coffee</td>\n",
       "    </tr>\n",
       "    <tr>\n",
       "      <th>2196</th>\n",
       "      <td>99</td>\n",
       "      <td>15</td>\n",
       "      <td>27</td>\n",
       "      <td>27.417112</td>\n",
       "      <td>56.636362</td>\n",
       "      <td>6.086922</td>\n",
       "      <td>127.924610</td>\n",
       "      <td>coffee</td>\n",
       "    </tr>\n",
       "    <tr>\n",
       "      <th>2197</th>\n",
       "      <td>118</td>\n",
       "      <td>33</td>\n",
       "      <td>30</td>\n",
       "      <td>24.131797</td>\n",
       "      <td>67.225123</td>\n",
       "      <td>6.362608</td>\n",
       "      <td>173.322839</td>\n",
       "      <td>coffee</td>\n",
       "    </tr>\n",
       "    <tr>\n",
       "      <th>2198</th>\n",
       "      <td>117</td>\n",
       "      <td>32</td>\n",
       "      <td>34</td>\n",
       "      <td>26.272418</td>\n",
       "      <td>52.127394</td>\n",
       "      <td>6.758793</td>\n",
       "      <td>127.175293</td>\n",
       "      <td>coffee</td>\n",
       "    </tr>\n",
       "    <tr>\n",
       "      <th>2199</th>\n",
       "      <td>104</td>\n",
       "      <td>18</td>\n",
       "      <td>30</td>\n",
       "      <td>23.603016</td>\n",
       "      <td>60.396475</td>\n",
       "      <td>6.779833</td>\n",
       "      <td>140.937041</td>\n",
       "      <td>coffee</td>\n",
       "    </tr>\n",
       "  </tbody>\n",
       "</table>\n",
       "<p>2200 rows × 8 columns</p>\n",
       "</div>"
      ],
      "text/plain": [
       "        N   P   K  temperature   humidity        ph    rainfall   label\n",
       "0      90  42  43    20.879744  82.002744  6.502985  202.935536    rice\n",
       "1      85  58  41    21.770462  80.319644  7.038096  226.655537    rice\n",
       "2      60  55  44    23.004459  82.320763  7.840207  263.964248    rice\n",
       "3      74  35  40    26.491096  80.158363  6.980401  242.864034    rice\n",
       "4      78  42  42    20.130175  81.604873  7.628473  262.717340    rice\n",
       "...   ...  ..  ..          ...        ...       ...         ...     ...\n",
       "2195  107  34  32    26.774637  66.413269  6.780064  177.774507  coffee\n",
       "2196   99  15  27    27.417112  56.636362  6.086922  127.924610  coffee\n",
       "2197  118  33  30    24.131797  67.225123  6.362608  173.322839  coffee\n",
       "2198  117  32  34    26.272418  52.127394  6.758793  127.175293  coffee\n",
       "2199  104  18  30    23.603016  60.396475  6.779833  140.937041  coffee\n",
       "\n",
       "[2200 rows x 8 columns]"
      ]
     },
     "execution_count": 2,
     "metadata": {},
     "output_type": "execute_result"
    }
   ],
   "source": [
    "data = pd.read_csv(\"Crop_recommendation.csv\")\n",
    "data"
   ]
  },
  {
   "cell_type": "code",
   "execution_count": 3,
   "id": "1f51338d-de34-4aec-8c80-a2ee306d12cc",
   "metadata": {},
   "outputs": [
    {
     "data": {
      "text/plain": [
       "N              0\n",
       "P              0\n",
       "K              0\n",
       "temperature    0\n",
       "humidity       0\n",
       "ph             0\n",
       "rainfall       0\n",
       "label          0\n",
       "dtype: int64"
      ]
     },
     "execution_count": 3,
     "metadata": {},
     "output_type": "execute_result"
    }
   ],
   "source": [
    "data.isnull().sum()"
   ]
  },
  {
   "cell_type": "code",
   "execution_count": 4,
   "id": "77e0f142-2928-47dc-b2da-5dfc9bcd05a1",
   "metadata": {},
   "outputs": [
    {
     "name": "stdout",
     "output_type": "stream",
     "text": [
      "<class 'pandas.core.frame.DataFrame'>\n",
      "RangeIndex: 2200 entries, 0 to 2199\n",
      "Data columns (total 8 columns):\n",
      " #   Column       Non-Null Count  Dtype  \n",
      "---  ------       --------------  -----  \n",
      " 0   N            2200 non-null   int64  \n",
      " 1   P            2200 non-null   int64  \n",
      " 2   K            2200 non-null   int64  \n",
      " 3   temperature  2200 non-null   float64\n",
      " 4   humidity     2200 non-null   float64\n",
      " 5   ph           2200 non-null   float64\n",
      " 6   rainfall     2200 non-null   float64\n",
      " 7   label        2200 non-null   object \n",
      "dtypes: float64(4), int64(3), object(1)\n",
      "memory usage: 137.6+ KB\n"
     ]
    }
   ],
   "source": [
    "data.info()"
   ]
  },
  {
   "cell_type": "code",
   "execution_count": 5,
   "id": "c33c8311-54b0-466e-a79b-10ef0c13878e",
   "metadata": {},
   "outputs": [
    {
     "data": {
      "text/plain": [
       "N\n",
       "22     44\n",
       "40     44\n",
       "27     42\n",
       "39     41\n",
       "31     41\n",
       "       ..\n",
       "136     2\n",
       "139     1\n",
       "135     1\n",
       "130     1\n",
       "46      1\n",
       "Name: count, Length: 137, dtype: int64"
      ]
     },
     "execution_count": 5,
     "metadata": {},
     "output_type": "execute_result"
    }
   ],
   "source": [
    "data[\"N\"].value_counts()"
   ]
  },
  {
   "cell_type": "code",
   "execution_count": 6,
   "id": "8229c921-1c22-425f-b88d-9d65486f4e76",
   "metadata": {},
   "outputs": [
    {
     "data": {
      "text/plain": [
       "array([ 90,  85,  60,  74,  78,  69,  94,  89,  68,  91,  93,  77,  88,\n",
       "        76,  67,  83,  98,  66,  97,  84,  73,  92,  95,  99,  63,  62,\n",
       "        64,  82,  79,  65,  75,  71,  72,  70,  86,  61,  81,  80, 100,\n",
       "        87,  96,  40,  23,  39,  22,  36,  32,  58,  59,  42,  28,  43,\n",
       "        27,  50,  25,  31,  26,  54,  57,  49,  46,  38,  35,  52,  44,\n",
       "        24,  29,  20,  56,  37,  51,  41,  34,  30,  33,  47,  53,  45,\n",
       "        48,  13,   2,  17,  12,   6,  10,  19,  11,  18,  21,  16,   9,\n",
       "         1,   7,   8,   0,   3,   4,   5,  14,  15,  55, 105, 108, 118,\n",
       "       101, 106, 109, 117, 114, 110, 112, 111, 102, 116, 119, 107, 104,\n",
       "       103, 120, 113, 115, 133, 136, 126, 121, 129, 122, 140, 131, 135,\n",
       "       123, 125, 139, 132, 127, 130, 134], dtype=int64)"
      ]
     },
     "execution_count": 6,
     "metadata": {},
     "output_type": "execute_result"
    }
   ],
   "source": [
    "data[\"N\"].unique()"
   ]
  },
  {
   "cell_type": "code",
   "execution_count": 7,
   "id": "635e9699-ff1c-4936-8c73-a9347feadae4",
   "metadata": {},
   "outputs": [
    {
     "data": {
      "text/plain": [
       "P\n",
       "60    56\n",
       "58    48\n",
       "56    46\n",
       "55    44\n",
       "57    42\n",
       "      ..\n",
       "83     2\n",
       "82     2\n",
       "90     2\n",
       "93     1\n",
       "84     1\n",
       "Name: count, Length: 117, dtype: int64"
      ]
     },
     "execution_count": 7,
     "metadata": {},
     "output_type": "execute_result"
    }
   ],
   "source": [
    "data[\"P\"].value_counts()"
   ]
  },
  {
   "cell_type": "code",
   "execution_count": 8,
   "id": "b70b2645-e551-4f13-87cf-fe784cf8c6ed",
   "metadata": {},
   "outputs": [
    {
     "data": {
      "text/plain": [
       "array([ 42,  58,  55,  35,  37,  53,  54,  46,  56,  50,  48,  38,  45,\n",
       "        40,  59,  41,  47,  49,  51,  57,  39,  43,  44,  60,  52,  36,\n",
       "        72,  67,  73,  70,  62,  74,  66,  63,  71,  78,  80,  68,  65,\n",
       "        77,  76,  79,  61,  64,  69,  75,  24,  18,  26,  27,  25,  21,\n",
       "        30,  11,   5,  10,   7,  20,  22,  15,  23,   8,  16,  29,  17,\n",
       "         6,  19,  13,   9,  14,  28,  94,  95,  92,  89,  88,  87,  85,\n",
       "        86,  83,  91,  81,  84,  90,  82,  93,  33,  31,  34,  32, 130,\n",
       "       144, 123, 125, 131, 140, 122, 134, 145, 139, 141, 138, 136, 132,\n",
       "       133, 121, 126, 120, 142, 135, 129, 128, 137, 127, 124, 143,  12],\n",
       "      dtype=int64)"
      ]
     },
     "execution_count": 8,
     "metadata": {},
     "output_type": "execute_result"
    }
   ],
   "source": [
    "data[\"P\"].unique()"
   ]
  },
  {
   "cell_type": "code",
   "execution_count": 9,
   "id": "e316c205-dacb-4b03-978c-766b2b2f6fbf",
   "metadata": {},
   "outputs": [
    {
     "data": {
      "text/plain": [
       "array([ 43,  41,  44,  40,  42,  38,  36,  37,  39,  35,  45,  16,  17,\n",
       "        21,  20,  19,  25,  22,  15,  18,  23,  24,  77,  84,  85,  81,\n",
       "        75,  79,  76,  83,  78,  80,  82,  46,  50,  53,  54,  49,  55,\n",
       "        52,  47,  48,  51,  27,  31,  32,  34,  33,  30,  28,  29,  26,\n",
       "       195, 204, 205, 196, 198, 197, 203, 201, 202, 199, 200,  12,  13,\n",
       "         6,   9,  10,  14,   8,   7,   5,  11], dtype=int64)"
      ]
     },
     "execution_count": 9,
     "metadata": {},
     "output_type": "execute_result"
    }
   ],
   "source": [
    "data[\"K\"].unique()"
   ]
  },
  {
   "cell_type": "code",
   "execution_count": 10,
   "id": "180812fa-4c5e-495c-a773-aed823f0a848",
   "metadata": {},
   "outputs": [
    {
     "data": {
      "text/plain": [
       "K\n",
       "17    90\n",
       "22    87\n",
       "15    86\n",
       "20    80\n",
       "25    78\n",
       "19    77\n",
       "21    74\n",
       "18    72\n",
       "45    65\n",
       "23    63\n",
       "Name: count, dtype: int64"
      ]
     },
     "execution_count": 10,
     "metadata": {},
     "output_type": "execute_result"
    }
   ],
   "source": [
    "data[\"K\"].value_counts().head(10)"
   ]
  },
  {
   "cell_type": "code",
   "execution_count": 11,
   "id": "9cdac959-1ced-447e-9378-cc1a300cd23d",
   "metadata": {},
   "outputs": [
    {
     "data": {
      "text/plain": [
       "temperature\n",
       "20.879744    1\n",
       "29.480699    1\n",
       "29.943492    1\n",
       "28.033065    1\n",
       "29.884305    1\n",
       "            ..\n",
       "25.365861    1\n",
       "28.568406    1\n",
       "30.284966    1\n",
       "27.325421    1\n",
       "23.603016    1\n",
       "Name: count, Length: 2200, dtype: int64"
      ]
     },
     "execution_count": 11,
     "metadata": {},
     "output_type": "execute_result"
    }
   ],
   "source": [
    "data[\"temperature\"].value_counts()"
   ]
  },
  {
   "cell_type": "code",
   "execution_count": 12,
   "id": "f0de21e2-88bd-4a95-8bbb-bcf27c9acc3b",
   "metadata": {},
   "outputs": [
    {
     "data": {
      "text/plain": [
       "array([20.87974371, 21.77046169, 23.00445915, ..., 24.13179691,\n",
       "       26.2724184 , 23.60301571])"
      ]
     },
     "execution_count": 12,
     "metadata": {},
     "output_type": "execute_result"
    }
   ],
   "source": [
    "data[\"temperature\"].unique()"
   ]
  },
  {
   "cell_type": "code",
   "execution_count": 13,
   "id": "d37b001f-af63-4026-9bf6-c00f87f4a7ca",
   "metadata": {},
   "outputs": [
    {
     "data": {
      "text/plain": [
       "humidity\n",
       "82.002744    1\n",
       "90.336987    1\n",
       "93.907412    1\n",
       "91.473558    1\n",
       "94.037115    1\n",
       "            ..\n",
       "66.637972    1\n",
       "61.532786    1\n",
       "61.692951    1\n",
       "69.090478    1\n",
       "60.396475    1\n",
       "Name: count, Length: 2200, dtype: int64"
      ]
     },
     "execution_count": 13,
     "metadata": {},
     "output_type": "execute_result"
    }
   ],
   "source": [
    "data[\"humidity\"].value_counts()"
   ]
  },
  {
   "cell_type": "code",
   "execution_count": 14,
   "id": "3377f67e-4757-43ac-93d2-73b4c165f2f7",
   "metadata": {},
   "outputs": [
    {
     "data": {
      "text/plain": [
       "array([82.00274423, 80.31964408, 82.3207629 , ..., 67.22512329,\n",
       "       52.12739421, 60.39647474])"
      ]
     },
     "execution_count": 14,
     "metadata": {},
     "output_type": "execute_result"
    }
   ],
   "source": [
    "data[\"humidity\"].unique()"
   ]
  },
  {
   "cell_type": "code",
   "execution_count": 15,
   "id": "aa8842e6-6bf2-4707-9916-3f40be33364f",
   "metadata": {},
   "outputs": [
    {
     "data": {
      "text/plain": [
       "ph\n",
       "6.502985    1\n",
       "6.640471    1\n",
       "6.251420    1\n",
       "6.274453    1\n",
       "6.135996    1\n",
       "           ..\n",
       "7.538631    1\n",
       "7.127064    1\n",
       "6.628265    1\n",
       "6.726469    1\n",
       "6.779833    1\n",
       "Name: count, Length: 2200, dtype: int64"
      ]
     },
     "execution_count": 15,
     "metadata": {},
     "output_type": "execute_result"
    }
   ],
   "source": [
    "data[\"ph\"].value_counts()"
   ]
  },
  {
   "cell_type": "code",
   "execution_count": 16,
   "id": "dbfb36f7-acc4-4557-bf47-811521e41a43",
   "metadata": {},
   "outputs": [
    {
     "data": {
      "text/plain": [
       "label\n",
       "rice           100\n",
       "maize          100\n",
       "jute           100\n",
       "cotton         100\n",
       "coconut        100\n",
       "papaya         100\n",
       "orange         100\n",
       "apple          100\n",
       "muskmelon      100\n",
       "watermelon     100\n",
       "grapes         100\n",
       "mango          100\n",
       "banana         100\n",
       "pomegranate    100\n",
       "lentil         100\n",
       "blackgram      100\n",
       "mungbean       100\n",
       "mothbeans      100\n",
       "pigeonpeas     100\n",
       "kidneybeans    100\n",
       "chickpea       100\n",
       "coffee         100\n",
       "Name: count, dtype: int64"
      ]
     },
     "execution_count": 16,
     "metadata": {},
     "output_type": "execute_result"
    }
   ],
   "source": [
    "data[\"label\"].value_counts()"
   ]
  },
  {
   "cell_type": "code",
   "execution_count": 17,
   "id": "c3aeb793-3fab-42eb-8699-c7bf74d0313b",
   "metadata": {},
   "outputs": [
    {
     "data": {
      "text/plain": [
       "array(['rice', 'maize', 'chickpea', 'kidneybeans', 'pigeonpeas',\n",
       "       'mothbeans', 'mungbean', 'blackgram', 'lentil', 'pomegranate',\n",
       "       'banana', 'mango', 'grapes', 'watermelon', 'muskmelon', 'apple',\n",
       "       'orange', 'papaya', 'coconut', 'cotton', 'jute', 'coffee'],\n",
       "      dtype=object)"
      ]
     },
     "execution_count": 17,
     "metadata": {},
     "output_type": "execute_result"
    }
   ],
   "source": [
    "data[\"label\"].unique()"
   ]
  },
  {
   "cell_type": "code",
   "execution_count": null,
   "id": "45c6fd45-0d32-4502-b3c7-7fec083e15aa",
   "metadata": {},
   "outputs": [],
   "source": []
  },
  {
   "cell_type": "code",
   "execution_count": 18,
   "id": "f06dd04b-29ae-4a13-be1e-c6f58dffe880",
   "metadata": {},
   "outputs": [
    {
     "data": {
      "text/html": [
       "<div>\n",
       "<style scoped>\n",
       "    .dataframe tbody tr th:only-of-type {\n",
       "        vertical-align: middle;\n",
       "    }\n",
       "\n",
       "    .dataframe tbody tr th {\n",
       "        vertical-align: top;\n",
       "    }\n",
       "\n",
       "    .dataframe thead th {\n",
       "        text-align: right;\n",
       "    }\n",
       "</style>\n",
       "<table border=\"1\" class=\"dataframe\">\n",
       "  <thead>\n",
       "    <tr style=\"text-align: right;\">\n",
       "      <th></th>\n",
       "      <th>N</th>\n",
       "      <th>P</th>\n",
       "      <th>K</th>\n",
       "      <th>temperature</th>\n",
       "      <th>humidity</th>\n",
       "      <th>ph</th>\n",
       "      <th>rainfall</th>\n",
       "      <th>label</th>\n",
       "    </tr>\n",
       "  </thead>\n",
       "  <tbody>\n",
       "    <tr>\n",
       "      <th>2190</th>\n",
       "      <td>103</td>\n",
       "      <td>40</td>\n",
       "      <td>30</td>\n",
       "      <td>27.309018</td>\n",
       "      <td>55.196224</td>\n",
       "      <td>6.348316</td>\n",
       "      <td>141.483164</td>\n",
       "      <td>coffee</td>\n",
       "    </tr>\n",
       "    <tr>\n",
       "      <th>2191</th>\n",
       "      <td>118</td>\n",
       "      <td>31</td>\n",
       "      <td>34</td>\n",
       "      <td>27.548230</td>\n",
       "      <td>62.881792</td>\n",
       "      <td>6.123796</td>\n",
       "      <td>181.417081</td>\n",
       "      <td>coffee</td>\n",
       "    </tr>\n",
       "    <tr>\n",
       "      <th>2192</th>\n",
       "      <td>106</td>\n",
       "      <td>21</td>\n",
       "      <td>35</td>\n",
       "      <td>25.627355</td>\n",
       "      <td>57.041511</td>\n",
       "      <td>7.428524</td>\n",
       "      <td>188.550654</td>\n",
       "      <td>coffee</td>\n",
       "    </tr>\n",
       "    <tr>\n",
       "      <th>2193</th>\n",
       "      <td>116</td>\n",
       "      <td>38</td>\n",
       "      <td>34</td>\n",
       "      <td>23.292503</td>\n",
       "      <td>50.045570</td>\n",
       "      <td>6.020947</td>\n",
       "      <td>183.468585</td>\n",
       "      <td>coffee</td>\n",
       "    </tr>\n",
       "    <tr>\n",
       "      <th>2194</th>\n",
       "      <td>97</td>\n",
       "      <td>35</td>\n",
       "      <td>26</td>\n",
       "      <td>24.914610</td>\n",
       "      <td>53.741447</td>\n",
       "      <td>6.334610</td>\n",
       "      <td>166.254931</td>\n",
       "      <td>coffee</td>\n",
       "    </tr>\n",
       "    <tr>\n",
       "      <th>2195</th>\n",
       "      <td>107</td>\n",
       "      <td>34</td>\n",
       "      <td>32</td>\n",
       "      <td>26.774637</td>\n",
       "      <td>66.413269</td>\n",
       "      <td>6.780064</td>\n",
       "      <td>177.774507</td>\n",
       "      <td>coffee</td>\n",
       "    </tr>\n",
       "    <tr>\n",
       "      <th>2196</th>\n",
       "      <td>99</td>\n",
       "      <td>15</td>\n",
       "      <td>27</td>\n",
       "      <td>27.417112</td>\n",
       "      <td>56.636362</td>\n",
       "      <td>6.086922</td>\n",
       "      <td>127.924610</td>\n",
       "      <td>coffee</td>\n",
       "    </tr>\n",
       "    <tr>\n",
       "      <th>2197</th>\n",
       "      <td>118</td>\n",
       "      <td>33</td>\n",
       "      <td>30</td>\n",
       "      <td>24.131797</td>\n",
       "      <td>67.225123</td>\n",
       "      <td>6.362608</td>\n",
       "      <td>173.322839</td>\n",
       "      <td>coffee</td>\n",
       "    </tr>\n",
       "    <tr>\n",
       "      <th>2198</th>\n",
       "      <td>117</td>\n",
       "      <td>32</td>\n",
       "      <td>34</td>\n",
       "      <td>26.272418</td>\n",
       "      <td>52.127394</td>\n",
       "      <td>6.758793</td>\n",
       "      <td>127.175293</td>\n",
       "      <td>coffee</td>\n",
       "    </tr>\n",
       "    <tr>\n",
       "      <th>2199</th>\n",
       "      <td>104</td>\n",
       "      <td>18</td>\n",
       "      <td>30</td>\n",
       "      <td>23.603016</td>\n",
       "      <td>60.396475</td>\n",
       "      <td>6.779833</td>\n",
       "      <td>140.937041</td>\n",
       "      <td>coffee</td>\n",
       "    </tr>\n",
       "  </tbody>\n",
       "</table>\n",
       "</div>"
      ],
      "text/plain": [
       "        N   P   K  temperature   humidity        ph    rainfall   label\n",
       "2190  103  40  30    27.309018  55.196224  6.348316  141.483164  coffee\n",
       "2191  118  31  34    27.548230  62.881792  6.123796  181.417081  coffee\n",
       "2192  106  21  35    25.627355  57.041511  7.428524  188.550654  coffee\n",
       "2193  116  38  34    23.292503  50.045570  6.020947  183.468585  coffee\n",
       "2194   97  35  26    24.914610  53.741447  6.334610  166.254931  coffee\n",
       "2195  107  34  32    26.774637  66.413269  6.780064  177.774507  coffee\n",
       "2196   99  15  27    27.417112  56.636362  6.086922  127.924610  coffee\n",
       "2197  118  33  30    24.131797  67.225123  6.362608  173.322839  coffee\n",
       "2198  117  32  34    26.272418  52.127394  6.758793  127.175293  coffee\n",
       "2199  104  18  30    23.603016  60.396475  6.779833  140.937041  coffee"
      ]
     },
     "execution_count": 18,
     "metadata": {},
     "output_type": "execute_result"
    }
   ],
   "source": [
    "data.tail(10)"
   ]
  },
  {
   "cell_type": "code",
   "execution_count": 19,
   "id": "83a0e303-92b4-485c-988b-1a94bcf4a0b9",
   "metadata": {},
   "outputs": [
    {
     "data": {
      "text/html": [
       "<div>\n",
       "<style scoped>\n",
       "    .dataframe tbody tr th:only-of-type {\n",
       "        vertical-align: middle;\n",
       "    }\n",
       "\n",
       "    .dataframe tbody tr th {\n",
       "        vertical-align: top;\n",
       "    }\n",
       "\n",
       "    .dataframe thead th {\n",
       "        text-align: right;\n",
       "    }\n",
       "</style>\n",
       "<table border=\"1\" class=\"dataframe\">\n",
       "  <thead>\n",
       "    <tr style=\"text-align: right;\">\n",
       "      <th></th>\n",
       "      <th>N</th>\n",
       "      <th>P</th>\n",
       "      <th>K</th>\n",
       "      <th>temperature</th>\n",
       "      <th>humidity</th>\n",
       "      <th>ph</th>\n",
       "      <th>rainfall</th>\n",
       "      <th>label</th>\n",
       "    </tr>\n",
       "  </thead>\n",
       "  <tbody>\n",
       "    <tr>\n",
       "      <th>61</th>\n",
       "      <td>83</td>\n",
       "      <td>58</td>\n",
       "      <td>45</td>\n",
       "      <td>25.755286</td>\n",
       "      <td>83.518271</td>\n",
       "      <td>5.875346</td>\n",
       "      <td>245.662680</td>\n",
       "      <td>rice</td>\n",
       "    </tr>\n",
       "    <tr>\n",
       "      <th>1125</th>\n",
       "      <td>12</td>\n",
       "      <td>37</td>\n",
       "      <td>30</td>\n",
       "      <td>31.097791</td>\n",
       "      <td>47.411967</td>\n",
       "      <td>4.546466</td>\n",
       "      <td>90.286243</td>\n",
       "      <td>mango</td>\n",
       "    </tr>\n",
       "    <tr>\n",
       "      <th>1763</th>\n",
       "      <td>70</td>\n",
       "      <td>65</td>\n",
       "      <td>52</td>\n",
       "      <td>30.420121</td>\n",
       "      <td>93.126598</td>\n",
       "      <td>6.583529</td>\n",
       "      <td>75.952950</td>\n",
       "      <td>papaya</td>\n",
       "    </tr>\n",
       "    <tr>\n",
       "      <th>50</th>\n",
       "      <td>60</td>\n",
       "      <td>36</td>\n",
       "      <td>43</td>\n",
       "      <td>23.431219</td>\n",
       "      <td>83.063101</td>\n",
       "      <td>5.286204</td>\n",
       "      <td>219.904835</td>\n",
       "      <td>rice</td>\n",
       "    </tr>\n",
       "    <tr>\n",
       "      <th>463</th>\n",
       "      <td>14</td>\n",
       "      <td>75</td>\n",
       "      <td>24</td>\n",
       "      <td>24.547578</td>\n",
       "      <td>57.341448</td>\n",
       "      <td>6.436160</td>\n",
       "      <td>118.360656</td>\n",
       "      <td>pigeonpeas</td>\n",
       "    </tr>\n",
       "    <tr>\n",
       "      <th>180</th>\n",
       "      <td>90</td>\n",
       "      <td>52</td>\n",
       "      <td>25</td>\n",
       "      <td>25.974824</td>\n",
       "      <td>69.363857</td>\n",
       "      <td>6.822587</td>\n",
       "      <td>103.223421</td>\n",
       "      <td>maize</td>\n",
       "    </tr>\n",
       "    <tr>\n",
       "      <th>898</th>\n",
       "      <td>34</td>\n",
       "      <td>73</td>\n",
       "      <td>15</td>\n",
       "      <td>20.971953</td>\n",
       "      <td>63.831799</td>\n",
       "      <td>7.630424</td>\n",
       "      <td>53.102079</td>\n",
       "      <td>lentil</td>\n",
       "    </tr>\n",
       "    <tr>\n",
       "      <th>1782</th>\n",
       "      <td>48</td>\n",
       "      <td>62</td>\n",
       "      <td>47</td>\n",
       "      <td>25.347561</td>\n",
       "      <td>93.028711</td>\n",
       "      <td>6.803095</td>\n",
       "      <td>174.401234</td>\n",
       "      <td>papaya</td>\n",
       "    </tr>\n",
       "    <tr>\n",
       "      <th>211</th>\n",
       "      <td>43</td>\n",
       "      <td>66</td>\n",
       "      <td>79</td>\n",
       "      <td>19.462340</td>\n",
       "      <td>15.225390</td>\n",
       "      <td>7.976608</td>\n",
       "      <td>74.585651</td>\n",
       "      <td>chickpea</td>\n",
       "    </tr>\n",
       "    <tr>\n",
       "      <th>1464</th>\n",
       "      <td>111</td>\n",
       "      <td>5</td>\n",
       "      <td>47</td>\n",
       "      <td>28.033065</td>\n",
       "      <td>91.473558</td>\n",
       "      <td>6.274453</td>\n",
       "      <td>21.179248</td>\n",
       "      <td>muskmelon</td>\n",
       "    </tr>\n",
       "  </tbody>\n",
       "</table>\n",
       "</div>"
      ],
      "text/plain": [
       "        N   P   K  temperature   humidity        ph    rainfall       label\n",
       "61     83  58  45    25.755286  83.518271  5.875346  245.662680        rice\n",
       "1125   12  37  30    31.097791  47.411967  4.546466   90.286243       mango\n",
       "1763   70  65  52    30.420121  93.126598  6.583529   75.952950      papaya\n",
       "50     60  36  43    23.431219  83.063101  5.286204  219.904835        rice\n",
       "463    14  75  24    24.547578  57.341448  6.436160  118.360656  pigeonpeas\n",
       "180    90  52  25    25.974824  69.363857  6.822587  103.223421       maize\n",
       "898    34  73  15    20.971953  63.831799  7.630424   53.102079      lentil\n",
       "1782   48  62  47    25.347561  93.028711  6.803095  174.401234      papaya\n",
       "211    43  66  79    19.462340  15.225390  7.976608   74.585651    chickpea\n",
       "1464  111   5  47    28.033065  91.473558  6.274453   21.179248   muskmelon"
      ]
     },
     "execution_count": 19,
     "metadata": {},
     "output_type": "execute_result"
    }
   ],
   "source": [
    "data.sample(10)"
   ]
  },
  {
   "cell_type": "code",
   "execution_count": 20,
   "id": "1392cb0a-d624-481b-9621-13e6b806f1e6",
   "metadata": {},
   "outputs": [
    {
     "data": {
      "text/html": [
       "<div>\n",
       "<style scoped>\n",
       "    .dataframe tbody tr th:only-of-type {\n",
       "        vertical-align: middle;\n",
       "    }\n",
       "\n",
       "    .dataframe tbody tr th {\n",
       "        vertical-align: top;\n",
       "    }\n",
       "\n",
       "    .dataframe thead th {\n",
       "        text-align: right;\n",
       "    }\n",
       "</style>\n",
       "<table border=\"1\" class=\"dataframe\">\n",
       "  <thead>\n",
       "    <tr style=\"text-align: right;\">\n",
       "      <th></th>\n",
       "      <th>N</th>\n",
       "      <th>P</th>\n",
       "      <th>K</th>\n",
       "      <th>temperature</th>\n",
       "      <th>humidity</th>\n",
       "      <th>ph</th>\n",
       "      <th>rainfall</th>\n",
       "      <th>label</th>\n",
       "    </tr>\n",
       "  </thead>\n",
       "  <tbody>\n",
       "    <tr>\n",
       "      <th>0</th>\n",
       "      <td>90</td>\n",
       "      <td>42</td>\n",
       "      <td>43</td>\n",
       "      <td>20.879744</td>\n",
       "      <td>82.002744</td>\n",
       "      <td>6.502985</td>\n",
       "      <td>202.935536</td>\n",
       "      <td>rice</td>\n",
       "    </tr>\n",
       "    <tr>\n",
       "      <th>1</th>\n",
       "      <td>85</td>\n",
       "      <td>58</td>\n",
       "      <td>41</td>\n",
       "      <td>21.770462</td>\n",
       "      <td>80.319644</td>\n",
       "      <td>7.038096</td>\n",
       "      <td>226.655537</td>\n",
       "      <td>rice</td>\n",
       "    </tr>\n",
       "    <tr>\n",
       "      <th>2</th>\n",
       "      <td>60</td>\n",
       "      <td>55</td>\n",
       "      <td>44</td>\n",
       "      <td>23.004459</td>\n",
       "      <td>82.320763</td>\n",
       "      <td>7.840207</td>\n",
       "      <td>263.964248</td>\n",
       "      <td>rice</td>\n",
       "    </tr>\n",
       "    <tr>\n",
       "      <th>3</th>\n",
       "      <td>74</td>\n",
       "      <td>35</td>\n",
       "      <td>40</td>\n",
       "      <td>26.491096</td>\n",
       "      <td>80.158363</td>\n",
       "      <td>6.980401</td>\n",
       "      <td>242.864034</td>\n",
       "      <td>rice</td>\n",
       "    </tr>\n",
       "    <tr>\n",
       "      <th>4</th>\n",
       "      <td>78</td>\n",
       "      <td>42</td>\n",
       "      <td>42</td>\n",
       "      <td>20.130175</td>\n",
       "      <td>81.604873</td>\n",
       "      <td>7.628473</td>\n",
       "      <td>262.717340</td>\n",
       "      <td>rice</td>\n",
       "    </tr>\n",
       "  </tbody>\n",
       "</table>\n",
       "</div>"
      ],
      "text/plain": [
       "    N   P   K  temperature   humidity        ph    rainfall label\n",
       "0  90  42  43    20.879744  82.002744  6.502985  202.935536  rice\n",
       "1  85  58  41    21.770462  80.319644  7.038096  226.655537  rice\n",
       "2  60  55  44    23.004459  82.320763  7.840207  263.964248  rice\n",
       "3  74  35  40    26.491096  80.158363  6.980401  242.864034  rice\n",
       "4  78  42  42    20.130175  81.604873  7.628473  262.717340  rice"
      ]
     },
     "execution_count": 20,
     "metadata": {},
     "output_type": "execute_result"
    }
   ],
   "source": [
    "data.head()"
   ]
  },
  {
   "cell_type": "code",
   "execution_count": 21,
   "id": "d64e492c-f1e1-4649-8b45-2445562957b5",
   "metadata": {},
   "outputs": [
    {
     "data": {
      "text/plain": [
       "137"
      ]
     },
     "execution_count": 21,
     "metadata": {},
     "output_type": "execute_result"
    }
   ],
   "source": [
    "total_nitrogen = data[\"N\"].nunique()#gives the count of unique value\n",
    "total_nitrogen"
   ]
  },
  {
   "cell_type": "code",
   "execution_count": 22,
   "id": "502ba294-52f8-4ef1-827a-b1be4057aa35",
   "metadata": {},
   "outputs": [
    {
     "data": {
      "text/plain": [
       "117"
      ]
     },
     "execution_count": 22,
     "metadata": {},
     "output_type": "execute_result"
    }
   ],
   "source": [
    "total_nitrogen = data[\"P\"].nunique()#gives the count of unique value\n",
    "total_nitrogen"
   ]
  },
  {
   "cell_type": "code",
   "execution_count": 23,
   "id": "b24dcad0-5b6c-45e3-ba0a-ab4354eb7b8a",
   "metadata": {},
   "outputs": [
    {
     "data": {
      "text/plain": [
       "array([ 42,  58,  55,  35,  37,  53,  54,  46,  56,  50,  48,  38,  45,\n",
       "        40,  59,  41,  47,  49,  51,  57,  39,  43,  44,  60,  52,  36,\n",
       "        72,  67,  73,  70,  62,  74,  66,  63,  71,  78,  80,  68,  65,\n",
       "        77,  76,  79,  61,  64,  69,  75,  24,  18,  26,  27,  25,  21,\n",
       "        30,  11,   5,  10,   7,  20,  22,  15,  23,   8,  16,  29,  17,\n",
       "         6,  19,  13,   9,  14,  28,  94,  95,  92,  89,  88,  87,  85,\n",
       "        86,  83,  91,  81,  84,  90,  82,  93,  33,  31,  34,  32, 130,\n",
       "       144, 123, 125, 131, 140, 122, 134, 145, 139, 141, 138, 136, 132,\n",
       "       133, 121, 126, 120, 142, 135, 129, 128, 137, 127, 124, 143,  12],\n",
       "      dtype=int64)"
      ]
     },
     "execution_count": 23,
     "metadata": {},
     "output_type": "execute_result"
    }
   ],
   "source": [
    "total_nitrogen = data[\"P\"].unique()\n",
    "total_nitrogen"
   ]
  },
  {
   "cell_type": "code",
   "execution_count": 24,
   "id": "2dd115d6-af82-4d9b-b14d-eeb949934180",
   "metadata": {},
   "outputs": [
    {
     "data": {
      "text/plain": [
       "array([ 43,  41,  44,  40,  42,  38,  36,  37,  39,  35,  45,  16,  17,\n",
       "        21,  20,  19,  25,  22,  15,  18,  23,  24,  77,  84,  85,  81,\n",
       "        75,  79,  76,  83,  78,  80,  82,  46,  50,  53,  54,  49,  55,\n",
       "        52,  47,  48,  51,  27,  31,  32,  34,  33,  30,  28,  29,  26,\n",
       "       195, 204, 205, 196, 198, 197, 203, 201, 202, 199, 200,  12,  13,\n",
       "         6,   9,  10,  14,   8,   7,   5,  11], dtype=int64)"
      ]
     },
     "execution_count": 24,
     "metadata": {},
     "output_type": "execute_result"
    }
   ],
   "source": [
    "total_nitrogen = data[\"K\"].unique()\n",
    "total_nitrogen"
   ]
  },
  {
   "cell_type": "code",
   "execution_count": 25,
   "id": "9c444b28-2248-4699-842d-b82f95dfed73",
   "metadata": {},
   "outputs": [
    {
     "data": {
      "text/plain": [
       "73"
      ]
     },
     "execution_count": 25,
     "metadata": {},
     "output_type": "execute_result"
    }
   ],
   "source": [
    "total_nitrogen = data[\"K\"].nunique()\n",
    "total_nitrogen"
   ]
  },
  {
   "cell_type": "code",
   "execution_count": 26,
   "id": "5ab6e422-f839-4d36-b7c4-8040642d71d8",
   "metadata": {},
   "outputs": [
    {
     "data": {
      "text/plain": [
       "105928"
      ]
     },
     "execution_count": 26,
     "metadata": {},
     "output_type": "execute_result"
    }
   ],
   "source": [
    "total_sum_k = data[\"K\"].sum()\n",
    "total_sum_k"
   ]
  },
  {
   "cell_type": "code",
   "execution_count": 27,
   "id": "2fa8e0a0-95e5-4094-b59e-d8e346e5b711",
   "metadata": {},
   "outputs": [
    {
     "data": {
      "text/plain": [
       "111214"
      ]
     },
     "execution_count": 27,
     "metadata": {},
     "output_type": "execute_result"
    }
   ],
   "source": [
    "total_SUM_nitrogen = data[\"N\"].sum()\n",
    "total_SUM_nitrogen"
   ]
  },
  {
   "cell_type": "code",
   "execution_count": 28,
   "id": "47147dc9-5266-4b58-a764-15f8b6001abe",
   "metadata": {},
   "outputs": [
    {
     "data": {
      "text/plain": [
       "117398"
      ]
     },
     "execution_count": 28,
     "metadata": {},
     "output_type": "execute_result"
    }
   ],
   "source": [
    "total_SUM_P= data[\"P\"].sum()\n",
    "total_SUM_P"
   ]
  },
  {
   "cell_type": "code",
   "execution_count": 29,
   "id": "86c47363-7c34-444b-af04-5322ed9dff1f",
   "metadata": {},
   "outputs": [
    {
     "data": {
      "image/png": "[encoded data removed]",
      "text/plain": [
       "<Figure size 1400x800 with 1 Axes>"
      ]
     },
     "metadata": {},
     "output_type": "display_data"
    }
   ],
   "source": [
    "# Calculate total quantity sold by sub-category\n",
    "nitrogen_label = data.groupby('label')['N'].sum().reset_index()\n",
    "\n",
    "# Create the bar plot\n",
    "plt.figure(figsize=(14, 8))\n",
    "sns.barplot(x='N', y='label', data=nitrogen_label,edgecolor='black')\n",
    "plt.title('Total nitrogen by label')\n",
    "plt.xlabel('Total nitrogen')\n",
    "plt.ylabel('Sub-Category')\n",
    "plt.show()"
   ]
  },
  {
   "cell_type": "code",
   "execution_count": 30,
   "id": "aee88f31-6335-4739-b474-1b61c4ff17e8",
   "metadata": {},
   "outputs": [
    {
     "data": {
      "image/png": "[encoded data removed]",
      "text/plain": [
       "<Figure size 1400x800 with 1 Axes>"
      ]
     },
     "metadata": {},
     "output_type": "display_data"
    }
   ],
   "source": [
    "import pandas as pd\n",
    "import matplotlib.pyplot as plt\n",
    "\n",
    "label_by_temperature = data.groupby('label')['temperature'].sum().reset_index()\n",
    "plt.figure(figsize=(14, 8))\n",
    "sns.barplot(x='temperature', y='label', data=label_by_temperature,edgecolor='black')\n",
    "plt.title('Total temparature by label')\n",
    "plt.xlabel('Total temperature')\n",
    "plt.ylabel('crops')\n",
    "plt.show()"
   ]
  },
  {
   "cell_type": "code",
   "execution_count": 31,
   "id": "5488b12c-3a69-4d57-aa85-069ca3971c10",
   "metadata": {},
   "outputs": [
    {
     "data": {
      "image/png": "[encoded data removed]",
      "text/plain": [
       "<Figure size 1000x600 with 1 Axes>"
      ]
     },
     "metadata": {},
     "output_type": "display_data"
    }
   ],
   "source": [
    "rice=data[data['label'] == 'rice']['N'].value_counts()\n",
    "\n",
    "plt.figure(figsize=(10, 6))\n",
    "plt.bar(rice.index, rice.values)\n",
    "\n",
    "plt.title('nitrogen by rice')\n",
    "plt.xlabel('rice')\n",
    "plt.ylabel('nitrogen')\n",
    "plt.legend(['crop'])\n",
    "plt.show()"
   ]
  },
  {
   "cell_type": "code",
   "execution_count": 32,
   "id": "d6b2c683-a630-40d4-a156-16e307dbcb2b",
   "metadata": {},
   "outputs": [
    {
     "name": "stdout",
     "output_type": "stream",
     "text": [
      "                 N      P      K\n",
      "label                           \n",
      "apple         2080  13422  19989\n",
      "banana       10023   8201   5005\n",
      "blackgram     4002   6747   1924\n",
      "chickpea      4009   6779   7992\n",
      "coconut       2198   1693   3059\n",
      "coffee       10120   2874   2994\n",
      "cotton       11777   4624   1956\n",
      "grapes        2318  13253  20011\n",
      "jute          7840   4686   3999\n",
      "kidneybeans   2075   6754   2005\n"
     ]
    },
    {
     "data": {
      "image/png": "[encoded data removed]",
      "text/plain": [
       "<Figure size 640x480 with 1 Axes>"
      ]
     },
     "metadata": {},
     "output_type": "display_data"
    }
   ],
   "source": [
    "category_data = data.groupby('label')[['N', 'P','K']].sum().head(10)\n",
    "print(category_data)\n",
    "category_data.plot(kind='bar',color=['brown','orange','pink'],edgecolor='black')\n",
    "plt.title('Total 10 crop by fertilizer')\n",
    "plt.ylabel('ratio')\n",
    "plt.show()"
   ]
  },
  {
   "cell_type": "code",
   "execution_count": 33,
   "id": "fa78dd6d-d84d-43f9-b30b-af562532336f",
   "metadata": {},
   "outputs": [
    {
     "data": {
      "image/png": "[encoded data removed]",
      "text/plain": [
       "<Figure size 1200x800 with 1 Axes>"
      ]
     },
     "metadata": {},
     "output_type": "display_data"
    }
   ],
   "source": [
    "# Calculate total sales per customer\n",
    "crop_rainfall = data.groupby('label')['rainfall'].sum().reset_index()\n",
    "\n",
    "# Sort customers by total sales and select bottom 10\n",
    "#\n",
    "\n",
    "# Create the bar plot\n",
    "plt.figure(figsize=(12, 8))\n",
    "sns.barplot(x='label', y='rainfall', data=crop_rainfall)\n",
    "plt.title('total rainfall by label')\n",
    "plt.xlabel('rainfall')\n",
    "plt.ylabel('crop')\n",
    "plt.xticks(rotation=45)\n",
    "\n",
    "plt.show()"
   ]
  },
  {
   "cell_type": "code",
   "execution_count": 34,
   "id": "d12a71bf-00da-42d0-b6e0-8b9d4f84ce44",
   "metadata": {},
   "outputs": [
    {
     "data": {
      "text/plain": [
       "298.5601175"
      ]
     },
     "execution_count": 34,
     "metadata": {},
     "output_type": "execute_result"
    }
   ],
   "source": [
    "data[\"rainfall\"].max()"
   ]
  },
  {
   "cell_type": "code",
   "execution_count": 35,
   "id": "ca281c2e-8abd-42e1-b12d-54569287f59f",
   "metadata": {},
   "outputs": [
    {
     "data": {
      "image/png": "[encoded data removed]",
      "text/plain": [
       "<Figure size 800x800 with 1 Axes>"
      ]
     },
     "metadata": {},
     "output_type": "display_data"
    }
   ],
   "source": [
    "# Cal_culate the number of orders by ship mode\n",
    "label_crop= data['label'].value_counts().head(10)\n",
    "\n",
    "# Create the pie chart\n",
    "plt.figure(figsize=(8, 8))\n",
    "plt.pie(label_crop,labels=label_crop.index, autopct='%1.1f%%',startangle= 90)\n",
    "plt.title('label count')\n",
    "plt.ylabel('')  # Hides the y-label\n",
    "plt.show()"
   ]
  },
  {
   "cell_type": "code",
   "execution_count": 36,
   "id": "d54dd18d-3451-497f-80fc-33bcf556e9c4",
   "metadata": {},
   "outputs": [
    {
     "data": {
      "image/png": "[encoded data removed]",
      "text/plain": [
       "<Figure size 1000x600 with 1 Axes>"
      ]
     },
     "metadata": {},
     "output_type": "display_data"
    }
   ],
   "source": [
    "plt.figure(figsize=(10, 6))\n",
    "plt.hist(data['N'], bins=30, color='skyblue', edgecolor='black')\n",
    "plt.title('Distribution of nitrogen')\n",
    "plt.xlabel('N')\n",
    "plt.ylabel('Frequency')\n",
    "plt.show()"
   ]
  },
  {
   "cell_type": "code",
   "execution_count": 37,
   "id": "a8bc0d71-02a0-4334-be0e-c55b37b67b0a",
   "metadata": {},
   "outputs": [
    {
     "data": {
      "image/png": "[encoded data removed]",
      "text/plain": [
       "<Figure size 1000x600 with 1 Axes>"
      ]
     },
     "metadata": {},
     "output_type": "display_data"
    }
   ],
   "source": [
    "plt.figure(figsize=(10, 6))\n",
    "plt.hist(data['temperature'], bins=10, color='skyblue', edgecolor='black')\n",
    "plt.title('Distribution of temparature')\n",
    "plt.xlabel('temparature')\n",
    "plt.ylabel('Frequency')\n",
    "plt.show()"
   ]
  },
  {
   "cell_type": "code",
   "execution_count": 38,
   "id": "37896c83-d971-49ef-8f2a-0bf592592dc4",
   "metadata": {},
   "outputs": [
    {
     "name": "stdout",
     "output_type": "stream",
     "text": [
      "             temperature      rainfall\n",
      "label                                 \n",
      "apple        2263.094241  11265.477928\n",
      "banana       2737.679831  10462.698040\n",
      "blackgram    2997.333968   6788.415118\n",
      "chickpea     1887.284675   8005.897726\n",
      "coconut      2740.989217  17568.664580\n",
      "coffee       2554.047682  15806.629488\n",
      "cotton       2398.895790   8039.804312\n",
      "grapes       2384.957512   6961.182889\n",
      "jute         2495.837583  17479.279754\n",
      "kidneybeans  2011.508469  10591.977754\n"
     ]
    },
    {
     "data": {
      "image/png": "[encoded data removed]",
      "text/plain": [
       "<Figure size 1000x600 with 1 Axes>"
      ]
     },
     "metadata": {},
     "output_type": "display_data"
    }
   ],
   "source": [
    "import pandas as pd\n",
    "import matplotlib.pyplot as plt\n",
    "\n",
    "# Group by 'Order Month' and sum the Sales and Profit\n",
    "temp_humidity = data.groupby('label')[['temperature', 'rainfall']].sum().head(10)\n",
    "print(temp_humidity)\n",
    "# Plotting the data as a line graph\n",
    "plt.figure(figsize=(10, 6))\n",
    "plt.plot(temp_humidity.index, temp_humidity['temperature'], marker='o', label='temperature', color='blue')\n",
    "plt.plot(temp_humidity.index, temp_humidity['rainfall'], marker='o', label='rainfall', color='orange')\n",
    "\n",
    "# Customizing the plot\n",
    "plt.title('Total Sales and Profit by Order Month')\n",
    "plt.xlabel('Order Month')\n",
    "plt.ylabel('Amount')\n",
    "plt.legend()\n",
    "plt.grid(True)\n",
    "plt.xticks(rotation=50)  # Ensure all months are shown on the x-axis\n",
    "plt.show()"
   ]
  },
  {
   "cell_type": "code",
   "execution_count": 39,
   "id": "1390d2fb-db47-4700-a40a-e846a3576e80",
   "metadata": {},
   "outputs": [
    {
     "name": "stdout",
     "output_type": "stream",
     "text": [
      "<class 'pandas.core.frame.DataFrame'>\n",
      "RangeIndex: 2200 entries, 0 to 2199\n",
      "Data columns (total 8 columns):\n",
      " #   Column       Non-Null Count  Dtype  \n",
      "---  ------       --------------  -----  \n",
      " 0   N            2200 non-null   int64  \n",
      " 1   P            2200 non-null   int64  \n",
      " 2   K            2200 non-null   int64  \n",
      " 3   temperature  2200 non-null   float64\n",
      " 4   humidity     2200 non-null   float64\n",
      " 5   ph           2200 non-null   float64\n",
      " 6   rainfall     2200 non-null   float64\n",
      " 7   label        2200 non-null   object \n",
      "dtypes: float64(4), int64(3), object(1)\n",
      "memory usage: 137.6+ KB\n"
     ]
    }
   ],
   "source": [
    "data.info()"
   ]
  },
  {
   "cell_type": "code",
   "execution_count": 40,
   "id": "86c77534-a554-490d-bbed-2441ad060ab7",
   "metadata": {},
   "outputs": [
    {
     "data": {
      "text/html": [
       "<div>\n",
       "<style scoped>\n",
       "    .dataframe tbody tr th:only-of-type {\n",
       "        vertical-align: middle;\n",
       "    }\n",
       "\n",
       "    .dataframe tbody tr th {\n",
       "        vertical-align: top;\n",
       "    }\n",
       "\n",
       "    .dataframe thead th {\n",
       "        text-align: right;\n",
       "    }\n",
       "</style>\n",
       "<table border=\"1\" class=\"dataframe\">\n",
       "  <thead>\n",
       "    <tr style=\"text-align: right;\">\n",
       "      <th></th>\n",
       "      <th>N</th>\n",
       "      <th>P</th>\n",
       "      <th>K</th>\n",
       "      <th>temperature</th>\n",
       "      <th>humidity</th>\n",
       "      <th>ph</th>\n",
       "      <th>rainfall</th>\n",
       "      <th>label</th>\n",
       "      <th>label_encoder</th>\n",
       "    </tr>\n",
       "  </thead>\n",
       "  <tbody>\n",
       "    <tr>\n",
       "      <th>0</th>\n",
       "      <td>90</td>\n",
       "      <td>42</td>\n",
       "      <td>43</td>\n",
       "      <td>20.879744</td>\n",
       "      <td>82.002744</td>\n",
       "      <td>6.502985</td>\n",
       "      <td>202.935536</td>\n",
       "      <td>rice</td>\n",
       "      <td>20</td>\n",
       "    </tr>\n",
       "    <tr>\n",
       "      <th>1</th>\n",
       "      <td>85</td>\n",
       "      <td>58</td>\n",
       "      <td>41</td>\n",
       "      <td>21.770462</td>\n",
       "      <td>80.319644</td>\n",
       "      <td>7.038096</td>\n",
       "      <td>226.655537</td>\n",
       "      <td>rice</td>\n",
       "      <td>20</td>\n",
       "    </tr>\n",
       "    <tr>\n",
       "      <th>2</th>\n",
       "      <td>60</td>\n",
       "      <td>55</td>\n",
       "      <td>44</td>\n",
       "      <td>23.004459</td>\n",
       "      <td>82.320763</td>\n",
       "      <td>7.840207</td>\n",
       "      <td>263.964248</td>\n",
       "      <td>rice</td>\n",
       "      <td>20</td>\n",
       "    </tr>\n",
       "    <tr>\n",
       "      <th>3</th>\n",
       "      <td>74</td>\n",
       "      <td>35</td>\n",
       "      <td>40</td>\n",
       "      <td>26.491096</td>\n",
       "      <td>80.158363</td>\n",
       "      <td>6.980401</td>\n",
       "      <td>242.864034</td>\n",
       "      <td>rice</td>\n",
       "      <td>20</td>\n",
       "    </tr>\n",
       "    <tr>\n",
       "      <th>4</th>\n",
       "      <td>78</td>\n",
       "      <td>42</td>\n",
       "      <td>42</td>\n",
       "      <td>20.130175</td>\n",
       "      <td>81.604873</td>\n",
       "      <td>7.628473</td>\n",
       "      <td>262.717340</td>\n",
       "      <td>rice</td>\n",
       "      <td>20</td>\n",
       "    </tr>\n",
       "    <tr>\n",
       "      <th>...</th>\n",
       "      <td>...</td>\n",
       "      <td>...</td>\n",
       "      <td>...</td>\n",
       "      <td>...</td>\n",
       "      <td>...</td>\n",
       "      <td>...</td>\n",
       "      <td>...</td>\n",
       "      <td>...</td>\n",
       "      <td>...</td>\n",
       "    </tr>\n",
       "    <tr>\n",
       "      <th>2195</th>\n",
       "      <td>107</td>\n",
       "      <td>34</td>\n",
       "      <td>32</td>\n",
       "      <td>26.774637</td>\n",
       "      <td>66.413269</td>\n",
       "      <td>6.780064</td>\n",
       "      <td>177.774507</td>\n",
       "      <td>coffee</td>\n",
       "      <td>5</td>\n",
       "    </tr>\n",
       "    <tr>\n",
       "      <th>2196</th>\n",
       "      <td>99</td>\n",
       "      <td>15</td>\n",
       "      <td>27</td>\n",
       "      <td>27.417112</td>\n",
       "      <td>56.636362</td>\n",
       "      <td>6.086922</td>\n",
       "      <td>127.924610</td>\n",
       "      <td>coffee</td>\n",
       "      <td>5</td>\n",
       "    </tr>\n",
       "    <tr>\n",
       "      <th>2197</th>\n",
       "      <td>118</td>\n",
       "      <td>33</td>\n",
       "      <td>30</td>\n",
       "      <td>24.131797</td>\n",
       "      <td>67.225123</td>\n",
       "      <td>6.362608</td>\n",
       "      <td>173.322839</td>\n",
       "      <td>coffee</td>\n",
       "      <td>5</td>\n",
       "    </tr>\n",
       "    <tr>\n",
       "      <th>2198</th>\n",
       "      <td>117</td>\n",
       "      <td>32</td>\n",
       "      <td>34</td>\n",
       "      <td>26.272418</td>\n",
       "      <td>52.127394</td>\n",
       "      <td>6.758793</td>\n",
       "      <td>127.175293</td>\n",
       "      <td>coffee</td>\n",
       "      <td>5</td>\n",
       "    </tr>\n",
       "    <tr>\n",
       "      <th>2199</th>\n",
       "      <td>104</td>\n",
       "      <td>18</td>\n",
       "      <td>30</td>\n",
       "      <td>23.603016</td>\n",
       "      <td>60.396475</td>\n",
       "      <td>6.779833</td>\n",
       "      <td>140.937041</td>\n",
       "      <td>coffee</td>\n",
       "      <td>5</td>\n",
       "    </tr>\n",
       "  </tbody>\n",
       "</table>\n",
       "<p>2200 rows × 9 columns</p>\n",
       "</div>"
      ],
      "text/plain": [
       "        N   P   K  temperature   humidity        ph    rainfall   label  \\\n",
       "0      90  42  43    20.879744  82.002744  6.502985  202.935536    rice   \n",
       "1      85  58  41    21.770462  80.319644  7.038096  226.655537    rice   \n",
       "2      60  55  44    23.004459  82.320763  7.840207  263.964248    rice   \n",
       "3      74  35  40    26.491096  80.158363  6.980401  242.864034    rice   \n",
       "4      78  42  42    20.130175  81.604873  7.628473  262.717340    rice   \n",
       "...   ...  ..  ..          ...        ...       ...         ...     ...   \n",
       "2195  107  34  32    26.774637  66.413269  6.780064  177.774507  coffee   \n",
       "2196   99  15  27    27.417112  56.636362  6.086922  127.924610  coffee   \n",
       "2197  118  33  30    24.131797  67.225123  6.362608  173.322839  coffee   \n",
       "2198  117  32  34    26.272418  52.127394  6.758793  127.175293  coffee   \n",
       "2199  104  18  30    23.603016  60.396475  6.779833  140.937041  coffee   \n",
       "\n",
       "      label_encoder  \n",
       "0                20  \n",
       "1                20  \n",
       "2                20  \n",
       "3                20  \n",
       "4                20  \n",
       "...             ...  \n",
       "2195              5  \n",
       "2196              5  \n",
       "2197              5  \n",
       "2198              5  \n",
       "2199              5  \n",
       "\n",
       "[2200 rows x 9 columns]"
      ]
     },
     "execution_count": 40,
     "metadata": {},
     "output_type": "execute_result"
    }
   ],
   "source": [
    "import pandas as pd\n",
    "from sklearn.preprocessing import LabelEncoder\n",
    "label= LabelEncoder()\n",
    "#fit and transform the data\n",
    "data['label_encoder']=label.fit_transform(data['label'])\n",
    "data"
   ]
  },
  {
   "cell_type": "code",
   "execution_count": 41,
   "id": "0db804d8-75cb-4c1f-b3fb-0a5ded5f3842",
   "metadata": {},
   "outputs": [
    {
     "data": {
      "text/plain": [
       "array([20, 11,  3,  9, 18, 13, 14,  2, 10, 19,  1, 12,  7, 21, 15,  0, 16,\n",
       "       17,  4,  6,  8,  5])"
      ]
     },
     "execution_count": 41,
     "metadata": {},
     "output_type": "execute_result"
    }
   ],
   "source": [
    "data['label_encoder'].unique()"
   ]
  },
  {
   "cell_type": "code",
   "execution_count": 42,
   "id": "12399b1e-8dd9-4d01-9721-f479ca716953",
   "metadata": {},
   "outputs": [
    {
     "data": {
      "text/html": [
       "<div>\n",
       "<style scoped>\n",
       "    .dataframe tbody tr th:only-of-type {\n",
       "        vertical-align: middle;\n",
       "    }\n",
       "\n",
       "    .dataframe tbody tr th {\n",
       "        vertical-align: top;\n",
       "    }\n",
       "\n",
       "    .dataframe thead th {\n",
       "        text-align: right;\n",
       "    }\n",
       "</style>\n",
       "<table border=\"1\" class=\"dataframe\">\n",
       "  <thead>\n",
       "    <tr style=\"text-align: right;\">\n",
       "      <th></th>\n",
       "      <th>N</th>\n",
       "      <th>P</th>\n",
       "      <th>K</th>\n",
       "      <th>temperature</th>\n",
       "      <th>humidity</th>\n",
       "      <th>ph</th>\n",
       "      <th>rainfall</th>\n",
       "      <th>label_encoder</th>\n",
       "    </tr>\n",
       "  </thead>\n",
       "  <tbody>\n",
       "    <tr>\n",
       "      <th>0</th>\n",
       "      <td>90</td>\n",
       "      <td>42</td>\n",
       "      <td>43</td>\n",
       "      <td>20.879744</td>\n",
       "      <td>82.002744</td>\n",
       "      <td>6.502985</td>\n",
       "      <td>202.935536</td>\n",
       "      <td>20</td>\n",
       "    </tr>\n",
       "    <tr>\n",
       "      <th>1</th>\n",
       "      <td>85</td>\n",
       "      <td>58</td>\n",
       "      <td>41</td>\n",
       "      <td>21.770462</td>\n",
       "      <td>80.319644</td>\n",
       "      <td>7.038096</td>\n",
       "      <td>226.655537</td>\n",
       "      <td>20</td>\n",
       "    </tr>\n",
       "    <tr>\n",
       "      <th>2</th>\n",
       "      <td>60</td>\n",
       "      <td>55</td>\n",
       "      <td>44</td>\n",
       "      <td>23.004459</td>\n",
       "      <td>82.320763</td>\n",
       "      <td>7.840207</td>\n",
       "      <td>263.964248</td>\n",
       "      <td>20</td>\n",
       "    </tr>\n",
       "    <tr>\n",
       "      <th>3</th>\n",
       "      <td>74</td>\n",
       "      <td>35</td>\n",
       "      <td>40</td>\n",
       "      <td>26.491096</td>\n",
       "      <td>80.158363</td>\n",
       "      <td>6.980401</td>\n",
       "      <td>242.864034</td>\n",
       "      <td>20</td>\n",
       "    </tr>\n",
       "    <tr>\n",
       "      <th>4</th>\n",
       "      <td>78</td>\n",
       "      <td>42</td>\n",
       "      <td>42</td>\n",
       "      <td>20.130175</td>\n",
       "      <td>81.604873</td>\n",
       "      <td>7.628473</td>\n",
       "      <td>262.717340</td>\n",
       "      <td>20</td>\n",
       "    </tr>\n",
       "    <tr>\n",
       "      <th>...</th>\n",
       "      <td>...</td>\n",
       "      <td>...</td>\n",
       "      <td>...</td>\n",
       "      <td>...</td>\n",
       "      <td>...</td>\n",
       "      <td>...</td>\n",
       "      <td>...</td>\n",
       "      <td>...</td>\n",
       "    </tr>\n",
       "    <tr>\n",
       "      <th>2195</th>\n",
       "      <td>107</td>\n",
       "      <td>34</td>\n",
       "      <td>32</td>\n",
       "      <td>26.774637</td>\n",
       "      <td>66.413269</td>\n",
       "      <td>6.780064</td>\n",
       "      <td>177.774507</td>\n",
       "      <td>5</td>\n",
       "    </tr>\n",
       "    <tr>\n",
       "      <th>2196</th>\n",
       "      <td>99</td>\n",
       "      <td>15</td>\n",
       "      <td>27</td>\n",
       "      <td>27.417112</td>\n",
       "      <td>56.636362</td>\n",
       "      <td>6.086922</td>\n",
       "      <td>127.924610</td>\n",
       "      <td>5</td>\n",
       "    </tr>\n",
       "    <tr>\n",
       "      <th>2197</th>\n",
       "      <td>118</td>\n",
       "      <td>33</td>\n",
       "      <td>30</td>\n",
       "      <td>24.131797</td>\n",
       "      <td>67.225123</td>\n",
       "      <td>6.362608</td>\n",
       "      <td>173.322839</td>\n",
       "      <td>5</td>\n",
       "    </tr>\n",
       "    <tr>\n",
       "      <th>2198</th>\n",
       "      <td>117</td>\n",
       "      <td>32</td>\n",
       "      <td>34</td>\n",
       "      <td>26.272418</td>\n",
       "      <td>52.127394</td>\n",
       "      <td>6.758793</td>\n",
       "      <td>127.175293</td>\n",
       "      <td>5</td>\n",
       "    </tr>\n",
       "    <tr>\n",
       "      <th>2199</th>\n",
       "      <td>104</td>\n",
       "      <td>18</td>\n",
       "      <td>30</td>\n",
       "      <td>23.603016</td>\n",
       "      <td>60.396475</td>\n",
       "      <td>6.779833</td>\n",
       "      <td>140.937041</td>\n",
       "      <td>5</td>\n",
       "    </tr>\n",
       "  </tbody>\n",
       "</table>\n",
       "<p>2200 rows × 8 columns</p>\n",
       "</div>"
      ],
      "text/plain": [
       "        N   P   K  temperature   humidity        ph    rainfall  label_encoder\n",
       "0      90  42  43    20.879744  82.002744  6.502985  202.935536             20\n",
       "1      85  58  41    21.770462  80.319644  7.038096  226.655537             20\n",
       "2      60  55  44    23.004459  82.320763  7.840207  263.964248             20\n",
       "3      74  35  40    26.491096  80.158363  6.980401  242.864034             20\n",
       "4      78  42  42    20.130175  81.604873  7.628473  262.717340             20\n",
       "...   ...  ..  ..          ...        ...       ...         ...            ...\n",
       "2195  107  34  32    26.774637  66.413269  6.780064  177.774507              5\n",
       "2196   99  15  27    27.417112  56.636362  6.086922  127.924610              5\n",
       "2197  118  33  30    24.131797  67.225123  6.362608  173.322839              5\n",
       "2198  117  32  34    26.272418  52.127394  6.758793  127.175293              5\n",
       "2199  104  18  30    23.603016  60.396475  6.779833  140.937041              5\n",
       "\n",
       "[2200 rows x 8 columns]"
      ]
     },
     "execution_count": 42,
     "metadata": {},
     "output_type": "execute_result"
    }
   ],
   "source": [
    "data.pop('label')\n",
    "data"
   ]
  },
  {
   "cell_type": "code",
   "execution_count": 43,
   "id": "4485698c-67b9-458f-9668-1186da3d0f04",
   "metadata": {},
   "outputs": [
    {
     "data": {
      "text/html": [
       "<div>\n",
       "<style scoped>\n",
       "    .dataframe tbody tr th:only-of-type {\n",
       "        vertical-align: middle;\n",
       "    }\n",
       "\n",
       "    .dataframe tbody tr th {\n",
       "        vertical-align: top;\n",
       "    }\n",
       "\n",
       "    .dataframe thead th {\n",
       "        text-align: right;\n",
       "    }\n",
       "</style>\n",
       "<table border=\"1\" class=\"dataframe\">\n",
       "  <thead>\n",
       "    <tr style=\"text-align: right;\">\n",
       "      <th></th>\n",
       "      <th>N</th>\n",
       "      <th>P</th>\n",
       "      <th>K</th>\n",
       "      <th>temperature</th>\n",
       "      <th>humidity</th>\n",
       "      <th>ph</th>\n",
       "      <th>rainfall</th>\n",
       "    </tr>\n",
       "  </thead>\n",
       "  <tbody>\n",
       "    <tr>\n",
       "      <th>0</th>\n",
       "      <td>90</td>\n",
       "      <td>42</td>\n",
       "      <td>43</td>\n",
       "      <td>20.879744</td>\n",
       "      <td>82.002744</td>\n",
       "      <td>6.502985</td>\n",
       "      <td>202.935536</td>\n",
       "    </tr>\n",
       "    <tr>\n",
       "      <th>1</th>\n",
       "      <td>85</td>\n",
       "      <td>58</td>\n",
       "      <td>41</td>\n",
       "      <td>21.770462</td>\n",
       "      <td>80.319644</td>\n",
       "      <td>7.038096</td>\n",
       "      <td>226.655537</td>\n",
       "    </tr>\n",
       "    <tr>\n",
       "      <th>2</th>\n",
       "      <td>60</td>\n",
       "      <td>55</td>\n",
       "      <td>44</td>\n",
       "      <td>23.004459</td>\n",
       "      <td>82.320763</td>\n",
       "      <td>7.840207</td>\n",
       "      <td>263.964248</td>\n",
       "    </tr>\n",
       "    <tr>\n",
       "      <th>3</th>\n",
       "      <td>74</td>\n",
       "      <td>35</td>\n",
       "      <td>40</td>\n",
       "      <td>26.491096</td>\n",
       "      <td>80.158363</td>\n",
       "      <td>6.980401</td>\n",
       "      <td>242.864034</td>\n",
       "    </tr>\n",
       "    <tr>\n",
       "      <th>4</th>\n",
       "      <td>78</td>\n",
       "      <td>42</td>\n",
       "      <td>42</td>\n",
       "      <td>20.130175</td>\n",
       "      <td>81.604873</td>\n",
       "      <td>7.628473</td>\n",
       "      <td>262.717340</td>\n",
       "    </tr>\n",
       "    <tr>\n",
       "      <th>...</th>\n",
       "      <td>...</td>\n",
       "      <td>...</td>\n",
       "      <td>...</td>\n",
       "      <td>...</td>\n",
       "      <td>...</td>\n",
       "      <td>...</td>\n",
       "      <td>...</td>\n",
       "    </tr>\n",
       "    <tr>\n",
       "      <th>2195</th>\n",
       "      <td>107</td>\n",
       "      <td>34</td>\n",
       "      <td>32</td>\n",
       "      <td>26.774637</td>\n",
       "      <td>66.413269</td>\n",
       "      <td>6.780064</td>\n",
       "      <td>177.774507</td>\n",
       "    </tr>\n",
       "    <tr>\n",
       "      <th>2196</th>\n",
       "      <td>99</td>\n",
       "      <td>15</td>\n",
       "      <td>27</td>\n",
       "      <td>27.417112</td>\n",
       "      <td>56.636362</td>\n",
       "      <td>6.086922</td>\n",
       "      <td>127.924610</td>\n",
       "    </tr>\n",
       "    <tr>\n",
       "      <th>2197</th>\n",
       "      <td>118</td>\n",
       "      <td>33</td>\n",
       "      <td>30</td>\n",
       "      <td>24.131797</td>\n",
       "      <td>67.225123</td>\n",
       "      <td>6.362608</td>\n",
       "      <td>173.322839</td>\n",
       "    </tr>\n",
       "    <tr>\n",
       "      <th>2198</th>\n",
       "      <td>117</td>\n",
       "      <td>32</td>\n",
       "      <td>34</td>\n",
       "      <td>26.272418</td>\n",
       "      <td>52.127394</td>\n",
       "      <td>6.758793</td>\n",
       "      <td>127.175293</td>\n",
       "    </tr>\n",
       "    <tr>\n",
       "      <th>2199</th>\n",
       "      <td>104</td>\n",
       "      <td>18</td>\n",
       "      <td>30</td>\n",
       "      <td>23.603016</td>\n",
       "      <td>60.396475</td>\n",
       "      <td>6.779833</td>\n",
       "      <td>140.937041</td>\n",
       "    </tr>\n",
       "  </tbody>\n",
       "</table>\n",
       "<p>2200 rows × 7 columns</p>\n",
       "</div>"
      ],
      "text/plain": [
       "        N   P   K  temperature   humidity        ph    rainfall\n",
       "0      90  42  43    20.879744  82.002744  6.502985  202.935536\n",
       "1      85  58  41    21.770462  80.319644  7.038096  226.655537\n",
       "2      60  55  44    23.004459  82.320763  7.840207  263.964248\n",
       "3      74  35  40    26.491096  80.158363  6.980401  242.864034\n",
       "4      78  42  42    20.130175  81.604873  7.628473  262.717340\n",
       "...   ...  ..  ..          ...        ...       ...         ...\n",
       "2195  107  34  32    26.774637  66.413269  6.780064  177.774507\n",
       "2196   99  15  27    27.417112  56.636362  6.086922  127.924610\n",
       "2197  118  33  30    24.131797  67.225123  6.362608  173.322839\n",
       "2198  117  32  34    26.272418  52.127394  6.758793  127.175293\n",
       "2199  104  18  30    23.603016  60.396475  6.779833  140.937041\n",
       "\n",
       "[2200 rows x 7 columns]"
      ]
     },
     "execution_count": 43,
     "metadata": {},
     "output_type": "execute_result"
    }
   ],
   "source": [
    "x=data.drop(\"label_encoder\",axis=1)\n",
    "x"
   ]
  },
  {
   "cell_type": "code",
   "execution_count": 44,
   "id": "0867ee09-6f9c-4558-be6b-0b031de863c0",
   "metadata": {},
   "outputs": [
    {
     "data": {
      "text/plain": [
       "0       20\n",
       "1       20\n",
       "2       20\n",
       "3       20\n",
       "4       20\n",
       "        ..\n",
       "2195     5\n",
       "2196     5\n",
       "2197     5\n",
       "2198     5\n",
       "2199     5\n",
       "Name: label_encoder, Length: 2200, dtype: int32"
      ]
     },
     "execution_count": 44,
     "metadata": {},
     "output_type": "execute_result"
    }
   ],
   "source": [
    "y=data[\"label_encoder\"]\n",
    "y"
   ]
  },
  {
   "cell_type": "code",
   "execution_count": 45,
   "id": "f546ddf4-3530-411d-bac1-da1f745fb86a",
   "metadata": {},
   "outputs": [],
   "source": [
    "from sklearn.model_selection import train_test_split\n",
    "x_train,x_test,y_train,y_test=train_test_split(x,y,test_size=0.25)"
   ]
  },
  {
   "cell_type": "code",
   "execution_count": 46,
   "id": "e36e0e37-1c52-4be0-8f62-9365d527624a",
   "metadata": {},
   "outputs": [
    {
     "data": {
      "text/plain": [
       "(1650, 7)"
      ]
     },
     "execution_count": 46,
     "metadata": {},
     "output_type": "execute_result"
    }
   ],
   "source": [
    "x_train.shape"
   ]
  },
  {
   "cell_type": "code",
   "execution_count": 47,
   "id": "f4fd0f4c-502e-4e99-bff8-eb67ccebeced",
   "metadata": {},
   "outputs": [
    {
     "data": {
      "text/plain": [
       "(1650,)"
      ]
     },
     "execution_count": 47,
     "metadata": {},
     "output_type": "execute_result"
    }
   ],
   "source": [
    "y_train.shape"
   ]
  },
  {
   "cell_type": "code",
   "execution_count": 48,
   "id": "c7d82438-5be4-4fd8-872f-498380b1e643",
   "metadata": {},
   "outputs": [
    {
     "data": {
      "text/plain": [
       "(550, 7)"
      ]
     },
     "execution_count": 48,
     "metadata": {},
     "output_type": "execute_result"
    }
   ],
   "source": [
    "x_test.shape"
   ]
  },
  {
   "cell_type": "code",
   "execution_count": 49,
   "id": "e3798d3e-a551-4924-b054-4134f05feeb3",
   "metadata": {},
   "outputs": [
    {
     "data": {
      "text/plain": [
       "(550,)"
      ]
     },
     "execution_count": 49,
     "metadata": {},
     "output_type": "execute_result"
    }
   ],
   "source": [
    "y_test.shape"
   ]
  },
  {
   "cell_type": "code",
   "execution_count": 50,
   "id": "23c9e4c3-24a8-474a-b3ae-5e7026f4376e",
   "metadata": {},
   "outputs": [
    {
     "name": "stdout",
     "output_type": "stream",
     "text": [
      "0.9581818181818181\n",
      "[ 3  2 19  8 21  9 18 18  3 20  7  7 13  0 11  6 13  9 21 13  7 15 16 20\n",
      " 13 20  2 13 10  7  9  8 18  6 15 19  6  8 14 13 16 18  9  0  9  1 20  3\n",
      " 11  9  3  0  8  6 17  6  9 17 17 17 21 11  3 14 13  5 15 16 18  6  0  5\n",
      " 10 21 16  8 13 16  1 20 16 13  1 20  7  2  0 21  3 11  3  9 19 21 18 15\n",
      " 11 14 17 13 15  4  6 13 13 14  3 18  1 13 10  1  3 21  2  5  0 13 18 21\n",
      " 13 12  8 19  3 16 15  9 14 21 14  1 14  6  2  7 21 14 18 13 14  5 20 12\n",
      " 20  0  7 20  6  2  0 16 14 18 21 19 13  6  5  3 14  9 11 13  0 15  2 20\n",
      " 19 21 15 11  1  0  4 19  8 15 17 10  8 16  2  7 10  4 13 10  8 13  1  0\n",
      "  3  4 20  7 18  7 18 17 21  2  4  5 10 10  8  0  5  1  6  1 20 12 11 14\n",
      " 14  7  3  0 19 13  7  6 13 19 16 10 21  7 17  3  4 21 16 17 19  8 13  3\n",
      " 17 15 11 14  6 12 16  8 12 14 12 15  0  2  3 11  3 18  7 15 16  0  5 15\n",
      " 20  8  9 17 19  5  9 12  9 20  7 15 18  7 17  9 12  9  4 13  3 21 19 13\n",
      "  2  2  0 13  8 12  5 14 13 18 17  2  3 20 20  5  0 19  6 14  1 20  4  5\n",
      " 14 17 14 15 13  0  6  8  7 21  2  8 15 15  6 12 13  2 13  3  8  6 14 18\n",
      "  9  7 12 19 13  5 13  6  3  9  5 21  2  5  9 15  4 18 18 20 14 14 19 13\n",
      "  9 20  1 16 12  5  8  5  0 21 21  6  5 13 17  9 10  4 21 12 16 11 14 19\n",
      "  8 14 18 11  7  3 12 17  0  9  3  1 11 11 20  4 12 20  8  3 17  6 18  1\n",
      " 10 18  7  5 14  7 18 19 15 17  7  4  7 16  6 13  8  3  9 17  9 18 12  9\n",
      "  6  2 12  5  4 13 18 15  0 16 17  1  8 13  8 14  3  7 10 21  7  4  4 11\n",
      "  9  6  1  5  6 16 12 14 13  1 21  8 19 16  8  2 11 20  5  0 18 10 12  5\n",
      " 18  9  5 15 19  3 10  6 16  4  7  2 14 15  0  9  6  1 11 15  2  3 18 12\n",
      "  3  6  1  8  8  7 19  2 17 12  9 20  8  5  7 17  9  2  4 16 14  3  9 19\n",
      " 21 17 10  4  9  8 12 13 21  7 21 21 21  3  2 19  7 11 19 12 17  4]\n"
     ]
    }
   ],
   "source": [
    "#taking the logistic regression algorithm(sklearn.linear_model)\n",
    "from sklearn.linear_model import LogisticRegression\n",
    "from sklearn.metrics import accuracy_score #checking the accuracy (it will be same in all the model)\n",
    "\n",
    "crop = LogisticRegression()\n",
    "\n",
    "#model fitting(fit keyword is use to train the model)\n",
    "crop.fit(x_train,y_train)\n",
    "\n",
    "#testing tht model(predict keyword is use to test the model)\n",
    "pred=crop.predict(x_test)\n",
    "\n",
    "#model accuracy\n",
    "print(accuracy_score(y_test,pred))\n",
    "print(pred)"
   ]
  },
  {
   "cell_type": "code",
   "execution_count": 51,
   "id": "6b4f2976-23f3-4537-9c9e-4aecc8cecdf8",
   "metadata": {},
   "outputs": [
    {
     "data": {
      "text/plain": [
       "label_encoder\n",
       "20    100\n",
       "11    100\n",
       "8     100\n",
       "6     100\n",
       "4     100\n",
       "17    100\n",
       "16    100\n",
       "0     100\n",
       "15    100\n",
       "21    100\n",
       "7     100\n",
       "12    100\n",
       "1     100\n",
       "19    100\n",
       "10    100\n",
       "2     100\n",
       "14    100\n",
       "13    100\n",
       "18    100\n",
       "9     100\n",
       "3     100\n",
       "5     100\n",
       "Name: count, dtype: int64"
      ]
     },
     "execution_count": 51,
     "metadata": {},
     "output_type": "execute_result"
    }
   ],
   "source": [
    "data[\"label_encoder\"].value_counts()"
   ]
  },
  {
   "cell_type": "code",
   "execution_count": 52,
   "id": "be338109-0e13-4eaf-b30c-0d3196db7649",
   "metadata": {},
   "outputs": [
    {
     "name": "stdout",
     "output_type": "stream",
     "text": [
      "0.9709090909090909\n",
      "[ 1 14  9  9 13 12  2  2  0 20  8 16 18 21  6  0  7  2 14 20  7 21  2 12\n",
      "  1  8 10  1 17 18 17  8 17  1 10 10 10 20 16  3 16  8  3 11 21  7  3  7\n",
      "  9 18 12 17 12 11 15  4 12  4  0  1 11 18  4 17 12 17  0 17  6  6  8 12\n",
      " 14 10  0 10 13  3 15  2 10  8  6 16  8  6  6 20  7  3 10  2  6 14  6 13\n",
      " 15 21  7 10  8 16  8 15 20  8 15 12 14 18  7  6  6  8 13 16  2  3 17 16\n",
      "  9 15  0 19 18 17  0  4  5 18  1  6  9  9 15 15  1  1 10 14  3 19  0 16\n",
      "  2  1  2  5 13 14 20  9  4 16  9  5 20  9  2  2 17 15 14  1 10  8 13  6\n",
      "  6  5 12 20  6 12  5  8  5 16 15  0  6  3  8 11  8 12  8  7 11 15 12  6\n",
      " 11  5 13  8  2 16 12 10  6  6 19 13  8 18 12 15  3  1 19 12 12 12 19 20\n",
      " 14  8  7  5  1 15 20 20  7  7 14  9  9 18  8 16  2 13 21 18  4 20 19  9\n",
      "  3  2 15 16  4  7  2 18 16 16  4  2  2  9 14  0 17 17 10 16  6  2  9 12\n",
      "  4 18  8  2  3  6 11 10  1  0 12 11  9  6  0 10 15 15 10 13  3 19 10 12\n",
      " 11 10  0 16 15 10  9 14 13  5 17  9 18  5 18  0  6 21  0 16  1 16  2 12\n",
      "  4  1 16  3  5 14  9 17 16  9 13  1 17 15 16 18  5 19  7  7 21  6 14 21\n",
      "  7  3  2  8 12  8 21  9  7  0 17 18  5  4 20 14  1  3 14  8  0 21  0 19\n",
      "  8  1  9  3 20 11 21 16  3  7 19  1  0  5 10  6 18 14 13 12 11 17  2  4\n",
      " 10  8 17  2 19  3  2 16  7  8 20 20  1  5 11  9  6 19  8  6  6  3 13 10\n",
      "  5  0  7  3 11  2  2 19 11  8 11  8 15  2  0 18 13  9  4  4  2 11 18  9\n",
      " 15  2 16  6 15 12 11  8 16 13  8  1 15 11  1 21  6  9 21  0  7 11 13  4\n",
      "  6 18 13  7 18  2 17 17 15  1  2 21 14  3 19  8 17  6  9  8  2 11  5 21\n",
      " 17 17  7  0  0  7 19 16 21 13  2 19 18  7  7  9  8  1  1  0  0  6 17  7\n",
      " 19 14 17  0  4  3 20 19  2 15  2 18  2 11  6  5 14  3 19 16 13  9 14 14\n",
      "  6  6 13 14 16 13 18  0 18  1  7 18 12 12 10 16 12 21  3 10 18 21]\n"
     ]
    }
   ],
   "source": [
    "from sklearn.model_selection import train_test_split\n",
    "x_train,x_test,y_train,y_test=train_test_split(x,y,test_size=0.25)\n",
    "#taking the logistic regression algorithm(sklearn.linear_model)\n",
    "from sklearn.svm import SVC\n",
    "from sklearn.metrics import accuracy_score #checking the accuracy (it will be same in all the model)\n",
    "\n",
    "crop1 = SVC()\n",
    "\n",
    "#model fitting(fit keyword is use to train the model)\n",
    "crop1.fit(x_train,y_train)\n",
    "\n",
    "#testing tht model(predict keyword is use to test the model)\n",
    "pred=crop1.predict(x_test)\n",
    "\n",
    "#model accuracy\n",
    "print(accuracy_score(y_test,pred))\n",
    "print(pred)"
   ]
  },
  {
   "cell_type": "code",
   "execution_count": 53,
   "id": "a1ede6f8-dccc-4084-a2bf-3f61b240f8bb",
   "metadata": {},
   "outputs": [
    {
     "name": "stdout",
     "output_type": "stream",
     "text": [
      "0.9945454545454545\n",
      "[17 15  7 12  8  8 14 19  1 18  5 19 12  8 15 13  0 21 14  8  3 12 10 11\n",
      "  9  5  3 21 18 16 11 13 19 11 18  5  2  5 17  4  2  1 12 11  2 20 21 18\n",
      "  5  8 11 20  3 18  8 13 19  5 10  8  3  6  8 13 14 11 18  8  5 12 12  7\n",
      " 14 12  6  5 13  9 13  1 10 20  0  6  6  2 21  5 20 13 21 14  8 12 19 13\n",
      " 19  8 10 17 19 12  1 18 19  2 21 13 20  6  9 15  0 14  0 11 17  6 12 14\n",
      "  9 14  7  3 10 19 13  5  1 20  2  1  9  0  9 14 18  1 11  2  4  4  5  5\n",
      "  8  9 17  6 11 12  4 11 18  5 13  2 20  0 14  3 13  1 12  1 10  7  5 12\n",
      " 15  9 17 15 12 21 21 17 14 14 16 21  9  6 19 14 14  5 14 14  2  2  2 16\n",
      " 21  5 21  8  8  8 17 14 11 10  2  6  0 11  0 12  9 16 11  5  2  3  4  7\n",
      "  5  4 19  0  2 17  9 19 18  0 11  4 21 19  7 10 21  8  8  3 19  7  5 18\n",
      " 12 14  4  5  2  2  0  3 18 18  2  2 20 16 17 13 18 13 15  8  8  1 13 19\n",
      " 21  3 14  2  4  2 20 18 14  2  9  9  2 21  5  0 19  3 20  0 12 18 21  0\n",
      " 17  9 17 17 13 15 20  9  5  4 11 14 12 17  1 18  1  9 18 10 11 14 19  0\n",
      " 10 11  5  3  6  3  9  8  3 16  8  7  1 10 16 17  0  3  8  0  1  0 14 17\n",
      " 13  0 21 18 15 19  1 10 14 12  8  7 19 17 19 17 18 12 13  6  8  1 16  7\n",
      " 11 10 12  6 19  4  4  0  4  5  0 19  5 18 20 18 19 16  7  8 15 16 17 14\n",
      " 17 19 12 13  8 17  4 13  8  6 19  6 18  1 12 20  5 21  7  8  4 13  7 12\n",
      "  0  4 13 10  2  8  2 10 13  4  8 14  5  8  8 12  4 18  8 20 21  7  4 17\n",
      "  2 15  8 16 15 19 19 19 18 21 13  3  0 19  0 19  8 19  3 13  6 17  4  8\n",
      " 14 19  0  2 18  8 20 16  4  3  5  6  0 12 18 11 14 11  6  0 20 10  6  2\n",
      " 19 12  2  3  4 15 20 13 13  9  1  0 21 13 14 15 11  6 13 20 11  8 14 17\n",
      " 16 13 13  2 16  8  9  9  2 14  3  1  3  1  0  7  7  4 18  6 10  2 16  1\n",
      " 14 12 12 16 18  0  0 10 19 15  1  1  1  2 17  5 20  2  1  0  2  9]\n"
     ]
    }
   ],
   "source": [
    "from sklearn.model_selection import train_test_split\n",
    "x_train,x_test,y_train,y_test=train_test_split(x,y,test_size=0.25)\n",
    "#taking the logistic regression algorithm(sklearn.linear_model)\n",
    "from sklearn.ensemble import RandomForestClassifier\n",
    "from sklearn.metrics import accuracy_score #checking the accuracy (it will be same in all the model)\n",
    "\n",
    "crop2 = RandomForestClassifier()\n",
    "\n",
    "#model fitting(fit keyword is use to train the model)\n",
    "crop2.fit(x_train,y_train)\n",
    "\n",
    "#testing tht model(predict keyword is use to test the model)\n",
    "pred=crop2.predict(x_test)\n",
    "\n",
    "#model accuracy\n",
    "print(accuracy_score(y_test,pred))\n",
    "print(pred)"
   ]
  },
  {
   "cell_type": "code",
   "execution_count": 54,
   "id": "3e736433-9c46-4f56-92be-a843db3c291e",
   "metadata": {},
   "outputs": [
    {
     "name": "stdout",
     "output_type": "stream",
     "text": [
      "<class 'pandas.core.frame.DataFrame'>\n",
      "RangeIndex: 2200 entries, 0 to 2199\n",
      "Data columns (total 7 columns):\n",
      " #   Column       Non-Null Count  Dtype  \n",
      "---  ------       --------------  -----  \n",
      " 0   N            2200 non-null   int64  \n",
      " 1   P            2200 non-null   int64  \n",
      " 2   K            2200 non-null   int64  \n",
      " 3   temperature  2200 non-null   float64\n",
      " 4   humidity     2200 non-null   float64\n",
      " 5   ph           2200 non-null   float64\n",
      " 6   rainfall     2200 non-null   float64\n",
      "dtypes: float64(4), int64(3)\n",
      "memory usage: 120.4 KB\n"
     ]
    }
   ],
   "source": [
    "x.info()"
   ]
  },
  {
   "cell_type": "code",
   "execution_count": 55,
   "id": "75f81063-87e0-4c7e-97d1-4626a4ff53f1",
   "metadata": {},
   "outputs": [
    {
     "data": {
      "text/html": [
       "<div>\n",
       "<style scoped>\n",
       "    .dataframe tbody tr th:only-of-type {\n",
       "        vertical-align: middle;\n",
       "    }\n",
       "\n",
       "    .dataframe tbody tr th {\n",
       "        vertical-align: top;\n",
       "    }\n",
       "\n",
       "    .dataframe thead th {\n",
       "        text-align: right;\n",
       "    }\n",
       "</style>\n",
       "<table border=\"1\" class=\"dataframe\">\n",
       "  <thead>\n",
       "    <tr style=\"text-align: right;\">\n",
       "      <th></th>\n",
       "      <th>N</th>\n",
       "      <th>P</th>\n",
       "      <th>K</th>\n",
       "      <th>temperature</th>\n",
       "      <th>humidity</th>\n",
       "      <th>ph</th>\n",
       "      <th>rainfall</th>\n",
       "      <th>label_encoder</th>\n",
       "    </tr>\n",
       "  </thead>\n",
       "  <tbody>\n",
       "    <tr>\n",
       "      <th>101</th>\n",
       "      <td>61</td>\n",
       "      <td>44</td>\n",
       "      <td>17</td>\n",
       "      <td>26.100184</td>\n",
       "      <td>71.574769</td>\n",
       "      <td>6.931757</td>\n",
       "      <td>102.266244</td>\n",
       "      <td>11</td>\n",
       "    </tr>\n",
       "    <tr>\n",
       "      <th>201</th>\n",
       "      <td>23</td>\n",
       "      <td>72</td>\n",
       "      <td>84</td>\n",
       "      <td>19.020613</td>\n",
       "      <td>17.131591</td>\n",
       "      <td>6.920251</td>\n",
       "      <td>79.926981</td>\n",
       "      <td>3</td>\n",
       "    </tr>\n",
       "    <tr>\n",
       "      <th>401</th>\n",
       "      <td>40</td>\n",
       "      <td>59</td>\n",
       "      <td>23</td>\n",
       "      <td>36.891637</td>\n",
       "      <td>62.731782</td>\n",
       "      <td>5.269085</td>\n",
       "      <td>163.726655</td>\n",
       "      <td>18</td>\n",
       "    </tr>\n",
       "  </tbody>\n",
       "</table>\n",
       "</div>"
      ],
      "text/plain": [
       "      N   P   K  temperature   humidity        ph    rainfall  label_encoder\n",
       "101  61  44  17    26.100184  71.574769  6.931757  102.266244             11\n",
       "201  23  72  84    19.020613  17.131591  6.920251   79.926981              3\n",
       "401  40  59  23    36.891637  62.731782  5.269085  163.726655             18"
      ]
     },
     "execution_count": 55,
     "metadata": {},
     "output_type": "execute_result"
    }
   ],
   "source": [
    "data.loc[[101,201,401]]"
   ]
  },
  {
   "cell_type": "code",
   "execution_count": 56,
   "id": "4e107d32-89ed-43c5-8281-fd74bab61238",
   "metadata": {},
   "outputs": [
    {
     "data": {
      "text/html": [
       "<div>\n",
       "<style scoped>\n",
       "    .dataframe tbody tr th:only-of-type {\n",
       "        vertical-align: middle;\n",
       "    }\n",
       "\n",
       "    .dataframe tbody tr th {\n",
       "        vertical-align: top;\n",
       "    }\n",
       "\n",
       "    .dataframe thead th {\n",
       "        text-align: right;\n",
       "    }\n",
       "</style>\n",
       "<table border=\"1\" class=\"dataframe\">\n",
       "  <thead>\n",
       "    <tr style=\"text-align: right;\">\n",
       "      <th></th>\n",
       "      <th>N</th>\n",
       "      <th>P</th>\n",
       "      <th>K</th>\n",
       "      <th>temperature</th>\n",
       "      <th>humidity</th>\n",
       "      <th>ph</th>\n",
       "      <th>rainfall</th>\n",
       "      <th>label_encoder</th>\n",
       "    </tr>\n",
       "  </thead>\n",
       "  <tbody>\n",
       "    <tr>\n",
       "      <th>101</th>\n",
       "      <td>61</td>\n",
       "      <td>44</td>\n",
       "      <td>17</td>\n",
       "      <td>26.100184</td>\n",
       "      <td>71.574769</td>\n",
       "      <td>6.931757</td>\n",
       "      <td>102.266244</td>\n",
       "      <td>11</td>\n",
       "    </tr>\n",
       "    <tr>\n",
       "      <th>103</th>\n",
       "      <td>73</td>\n",
       "      <td>58</td>\n",
       "      <td>21</td>\n",
       "      <td>19.972160</td>\n",
       "      <td>57.682729</td>\n",
       "      <td>6.596061</td>\n",
       "      <td>60.651715</td>\n",
       "      <td>11</td>\n",
       "    </tr>\n",
       "    <tr>\n",
       "      <th>105</th>\n",
       "      <td>68</td>\n",
       "      <td>41</td>\n",
       "      <td>16</td>\n",
       "      <td>21.776893</td>\n",
       "      <td>57.808406</td>\n",
       "      <td>6.158831</td>\n",
       "      <td>102.086169</td>\n",
       "      <td>11</td>\n",
       "    </tr>\n",
       "    <tr>\n",
       "      <th>107</th>\n",
       "      <td>89</td>\n",
       "      <td>60</td>\n",
       "      <td>19</td>\n",
       "      <td>25.191924</td>\n",
       "      <td>66.690290</td>\n",
       "      <td>5.913665</td>\n",
       "      <td>78.066396</td>\n",
       "      <td>11</td>\n",
       "    </tr>\n",
       "    <tr>\n",
       "      <th>109</th>\n",
       "      <td>67</td>\n",
       "      <td>60</td>\n",
       "      <td>25</td>\n",
       "      <td>24.921622</td>\n",
       "      <td>66.786274</td>\n",
       "      <td>5.750255</td>\n",
       "      <td>109.216228</td>\n",
       "      <td>11</td>\n",
       "    </tr>\n",
       "  </tbody>\n",
       "</table>\n",
       "</div>"
      ],
      "text/plain": [
       "      N   P   K  temperature   humidity        ph    rainfall  label_encoder\n",
       "101  61  44  17    26.100184  71.574769  6.931757  102.266244             11\n",
       "103  73  58  21    19.972160  57.682729  6.596061   60.651715             11\n",
       "105  68  41  16    21.776893  57.808406  6.158831  102.086169             11\n",
       "107  89  60  19    25.191924  66.690290  5.913665   78.066396             11\n",
       "109  67  60  25    24.921622  66.786274  5.750255  109.216228             11"
      ]
     },
     "execution_count": 56,
     "metadata": {},
     "output_type": "execute_result"
    }
   ],
   "source": [
    "data.loc[101:110:2]"
   ]
  },
  {
   "cell_type": "code",
   "execution_count": 57,
   "id": "8df8262f-baf1-494b-a15d-b2f9af418e80",
   "metadata": {},
   "outputs": [
    {
     "name": "stdout",
     "output_type": "stream",
     "text": [
      "Enter nitrogen ratio (e.g., 0 to 140):  5\n",
      "Enter phosphorus ratio (e.g., 5 to 145):  7\n",
      "Enter potassium ratio (e.g., 5 to 205):  90\n",
      "Enter temperature (e.g., 8.83°C to 43.68°C):  800\n",
      "Enter humidity (e.g., 14.26% to 99.98%):  89\n",
      "Enter pH (e.g., 3.50 to 9.94):  78\n",
      "Enter rainfall (e.g., 20.21 mm to 298.56):  90\n"
     ]
    },
    {
     "name": "stdout",
     "output_type": "stream",
     "text": [
      "Prediction: chickpea\n"
     ]
    }
   ],
   "source": [
    "def predict_crops():\n",
    "    nitrogen = int(input(\"Enter nitrogen ratio (e.g., 0 to 140): \"))\n",
    "    phosphorus = int(input(\"Enter phosphorus ratio (e.g., 5 to 145): \"))\n",
    "    potassium = int(input(\"Enter potassium ratio (e.g., 5 to 205): \"))\n",
    "    temperature = float(input(\"Enter temperature (e.g., 8.83°C to 43.68°C): \"))\n",
    "    humidity = float(input(\"Enter humidity (e.g., 14.26% to 99.98%): \"))\n",
    "    ph = float(input(\"Enter pH (e.g., 3.50 to 9.94): \"))\n",
    "    rainfall = float(input(\"Enter rainfall (e.g., 20.21 mm to 298.56): \"))\n",
    "\n",
    "    inputs = [\n",
    "        nitrogen,\n",
    "        phosphorus,\n",
    "        potassium,\n",
    "        temperature,\n",
    "        humidity,\n",
    "        ph,\n",
    "        rainfall\n",
    "    ]\n",
    "\n",
    "    prediction = crop2.predict([inputs])[0]\n",
    "\n",
    "    # Mapping of prediction output to crop names\n",
    "    crop_names = {\n",
    "        0: \"apple\",\n",
    "        1: \"banana\",\n",
    "        2: \"blackgram\",\n",
    "        3: \"chickpea\",\n",
    "        4: \"coconut\",\n",
    "        5: \"coffee\",\n",
    "        6: \"cotton\",\n",
    "        7: \"grapes\",\n",
    "        8: \"jute\",\n",
    "        9: \"kidneybeans\",\n",
    "        10: \"lentil\",\n",
    "        11: \"maize\",\n",
    "        12: \"mango\",\n",
    "        13: \"mothbeans\",\n",
    "        14: \"mungbean\",\n",
    "        15: \"muskmelon\",\n",
    "        16: \"orange\",\n",
    "        17: \"papaya\",\n",
    "        18: \"pigeonpeas\",\n",
    "        19: \"pomegranate\",\n",
    "        20: \"rice\",\n",
    "        21: \"watermelon\"\n",
    "    }\n",
    "\n",
    "    # Return the crop name based on the prediction\n",
    "    return crop_names.get(prediction, \"Unknown Crop\")\n",
    "\n",
    "# Call the function and print the result\n",
    "result = predict_crops()\n",
    "print(\"Prediction:\", result)\n"
   ]
  },
  {
   "cell_type": "code",
   "execution_count": 58,
   "id": "e76606b5-66e6-4c84-97ee-d27fa8eabeae",
   "metadata": {},
   "outputs": [],
   "source": [
    "# def predict_crops():\n",
    "#     nitrogen = int(input(\"enter ratio(e.g,. 0 to 140):\"))\n",
    "#     phosphorus = int(input(\"enter ratio(e.g,.5 to 145):\"))\n",
    "#     potassium = int(input(\"enter ratio(e.g,.5 to 205):\"))\n",
    "#     temperature = float(input(\"enter temperature(e.g,.8.83°C to 43.68°C):\"))\n",
    "#     humidity = float(input(\"enter humidity(e.g,.14.26% to 99.98%):\"))\n",
    "#     ph = float(input(\"enter ph(e.g,.3.50 to 9.94):\"))\n",
    "#     rainfall = float(input(\"enter rainfall(e.g,.20.21 mm to 298.56):\"))\n",
    "\n",
    "#     inputs = [\n",
    "#      nitrogen,9\n",
    "#      phosphorus,\n",
    "#      potassium,\n",
    "#      temperature,\n",
    "#      humidity,\n",
    "#      ph,\n",
    "#      rainfall\n",
    "#     ]\n",
    "\n",
    "#     prediction = crop2.predict([inputs])[0]\n",
    "\n",
    "#     #return the result\n",
    "#     #\n",
    "#     return \"rice\" if prediction ==20  else\"No \"\n",
    "    \n",
    " \n",
    "# #call the function and print the result\n",
    "# result = predict_crops()\n",
    "# print(\"Prediction:\",result)"
   ]
  },
  {
   "cell_type": "code",
   "execution_count": 60,
   "id": "32a7a430-6a3f-4ff4-a210-72cfa98e8efd",
   "metadata": {},
   "outputs": [
    {
     "name": "stdout",
     "output_type": "stream",
     "text": [
      "Enter nitrogen ratio (e.g., 0 to 140):  33\n",
      "Enter phosphorus ratio (e.g., 5 to 145):  44\n",
      "Enter potassium ratio (e.g., 5 to 205):  66\n",
      "Enter temperature (e.g., 8.83°C to 43.68°C):  88\n",
      "Enter humidity (e.g., 14.26% to 99.98%):  90\n",
      "Enter pH (e.g., 3.50 to 9.94):  90\n",
      "Enter rainfall (e.g., 20.21 mm to 298.56):  78\n"
     ]
    },
    {
     "name": "stdout",
     "output_type": "stream",
     "text": [
      "Prediction: papaya\n"
     ]
    }
   ],
   "source": [
    "def predict_crops():\n",
    "    nitrogen = int(input(\"Enter nitrogen ratio (e.g., 0 to 140): \"))\n",
    "    phosphorus = int(input(\"Enter phosphorus ratio (e.g., 5 to 145): \"))\n",
    "    potassium = int(input(\"Enter potassium ratio (e.g., 5 to 205): \"))\n",
    "    temperature = float(input(\"Enter temperature (e.g., 8.83°C to 43.68°C): \"))\n",
    "    humidity = float(input(\"Enter humidity (e.g., 14.26% to 99.98%): \"))\n",
    "    ph = float(input(\"Enter pH (e.g., 3.50 to 9.94): \"))\n",
    "    rainfall = float(input(\"Enter rainfall (e.g., 20.21 mm to 298.56): \"))\n",
    "\n",
    "    inputs = [\n",
    "        nitrogen,\n",
    "        phosphorus,\n",
    "        potassium,\n",
    "        temperature,\n",
    "        humidity,\n",
    "        ph,\n",
    "        rainfall\n",
    "    ]\n",
    "\n",
    "    prediction = crop2.predict([inputs])[0]\n",
    "\n",
    "    # List of crop names corresponding to prediction values\n",
    "    crop_names = [\n",
    "        \"apple\", \"banana\", \"blackgram\", \"chickpea\", \"coconut\", \"coffee\",\n",
    "        \"cotton\", \"grapes\", \"jute\", \"kidneybeans\", \"lentil\", \"maize\",\n",
    "        \"mango\", \"mothbeans\", \"mungbean\", \"muskmelon\", \"orange\", \"papaya\",\n",
    "        \"pigeonpeas\", \"pomegranate\", \"rice\", \"watermelon\"\n",
    "    ]\n",
    "\n",
    "    # Using a for loop to find the matching crop\n",
    "    for index in range(len(crop_names)):\n",
    "        if prediction == index:\n",
    "            return crop_names[index]\n",
    "\n",
    "    return \"Unknown Crop\"\n",
    "\n",
    "# Call the function and print the result\n",
    "result = predict_crops()\n",
    "print(\"Prediction:\", result)\n"
   ]
  },
  {
   "cell_type": "code",
   "execution_count": null,
   "id": "8f771b5f-2119-4564-bb2e-3fa349cb4f30",
   "metadata": {},
   "outputs": [],
   "source": [
    "def predict_crops():\n",
    "    nitrogen = int(input(\"Enter nitrogen ratio (e.g., 0 to 140): \"))\n",
    "    phosphorus = int(input(\"Enter phosphorus ratio (e.g., 5 to 145): \"))\n",
    "    potassium = int(input(\"Enter potassium ratio (e.g., 5 to 205): \"))\n",
    "    temperature = float(input(\"Enter temperature (e.g., 8.83°C to 43.68°C): \"))\n",
    "    humidity = float(input(\"Enter humidity (e.g., 14.26% to 99.98%): \"))\n",
    "    ph = float(input(\"Enter pH (e.g., 3.50 to 9.94): \"))\n",
    "    rainfall = float(input(\"Enter rainfall (e.g., 20.21 mm to 298.56): \"))\n",
    "\n",
    "    inputs = [\n",
    "        nitrogen,\n",
    "        phosphorus,\n",
    "        potassium,\n",
    "        temperature,\n",
    "        humidity,\n",
    "        ph,\n",
    "        rainfall\n",
    "    ]\n",
    "\n",
    "    prediction = crop2.predict([inputs])[0]\n",
    "  \n",
    "\n",
    "    # List of crop names corresponding to prediction values\n",
    "    crop_names = [\n",
    "        \"apple\", \"banana\", \"blackgram\", \"chickpea\", \"coconut\", \"coffee\",\n",
    "        \"cotton\", \"grapes\", \"jute\", \"kidneybeans\", \"lentil\", \"maize\",\n",
    "        \"mango\", \"mothbeans\", \"mungbean\", \"muskmelon\", \"orange\", \"papaya\",\n",
    "        \"pigeonpeas\", \"pomegranate\", \"rice\", \"watermelon\"\n",
    "    ]\n",
    "\n",
    "    index = 0\n",
    "    while index < len(crop_names):\n",
    "        if prediction == index:\n",
    "            return crop_names[index]\n",
    "        index += 1\n",
    "\n",
    "    return \"Unknown Crop\"\n",
    "\n",
    "# Call the function and print the result\n",
    "result = predict_crops()\n",
    "print(\"Prediction:\", result)\n"
   ]
  },
  {
   "cell_type": "code",
   "execution_count": 61,
   "id": "6e551dd8-ce44-456c-a13d-29de76a57789",
   "metadata": {},
   "outputs": [
    {
     "name": "stdout",
     "output_type": "stream",
     "text": [
      "Enter nitrogen ratio (e.g., 0 to 140):  22\n",
      "Enter phosphorus ratio (e.g., 5 to 145):  23\n",
      "Enter potassium ratio (e.g., 5 to 205):  78\n",
      "Enter temperature (e.g., 8.83°C to 43.68°C):  22.2\n",
      "Enter humidity (e.g., 14.26% to 99.98%):  12\n",
      "Enter pH (e.g., 3.50 to 9.94):  22\n",
      "Enter rainfall (e.g., 20.21 mm to 298.56):  222\n"
     ]
    },
    {
     "name": "stdout",
     "output_type": "stream",
     "text": [
      "Prediction: chickpea\n"
     ]
    }
   ],
   "source": [
    "def predict_crops():\n",
    "    nitrogen = int(input(\"Enter nitrogen ratio (e.g., 0 to 140): \"))\n",
    "    phosphorus = int(input(\"Enter phosphorus ratio (e.g., 5 to 145): \"))\n",
    "    potassium = int(input(\"Enter potassium ratio (e.g., 5 to 205): \"))\n",
    "    temperature = float(input(\"Enter temperature (e.g., 8.83°C to 43.68°C): \"))\n",
    "    humidity = float(input(\"Enter humidity (e.g., 14.26% to 99.98%): \"))\n",
    "    ph = float(input(\"Enter pH (e.g., 3.50 to 9.94): \"))\n",
    "    rainfall = float(input(\"Enter rainfall (e.g., 20.21 mm to 298.56): \"))\n",
    "\n",
    "    inputs = [\n",
    "        nitrogen,\n",
    "        phosphorus,\n",
    "        potassium,\n",
    "        temperature,\n",
    "        humidity,\n",
    "        ph,\n",
    "        rainfall\n",
    "    ]\n",
    "\n",
    "    prediction = crop2.predict([inputs])[0]\n",
    "\n",
    "    # Mapping prediction output to crop names using if-elif-else statements\n",
    "    if prediction == 0:\n",
    "        return \"apple\"\n",
    "    elif prediction == 1:\n",
    "        return \"banana\"\n",
    "    elif prediction == 2:\n",
    "        return \"blackgram\"\n",
    "    elif prediction == 3:\n",
    "        return \"chickpea\"\n",
    "    elif prediction == 4:\n",
    "        return \"coconut\"\n",
    "    elif prediction == 5:\n",
    "        return \"coffee\"\n",
    "    elif prediction == 6:\n",
    "        return \"cotton\"\n",
    "    elif prediction == 7:\n",
    "        return \"grapes\"\n",
    "    elif prediction == 8:\n",
    "        return \"jute\"\n",
    "    elif prediction == 9:\n",
    "        return \"kidneybeans\"\n",
    "    elif prediction == 10:\n",
    "        return \"lentil\"\n",
    "    elif prediction == 11:\n",
    "        return \"maize\"\n",
    "    elif prediction == 12:\n",
    "        return \"mango\"\n",
    "    elif prediction == 13:\n",
    "        return \"mothbeans\"\n",
    "    elif prediction == 14:\n",
    "        return \"mungbean\"\n",
    "    elif prediction == 15:\n",
    "        return \"muskmelon\"\n",
    "    elif prediction == 16:\n",
    "        return \"orange\"\n",
    "    elif prediction == 17:\n",
    "        return \"papaya\"\n",
    "    elif prediction == 18:\n",
    "        return \"pigeonpeas\"\n",
    "    elif prediction == 19:\n",
    "        return \"pomegranate\"\n",
    "    elif prediction == 20:\n",
    "        return \"rice\"\n",
    "    elif prediction == 21:\n",
    "        return \"watermelon\"\n",
    "    else:\n",
    "        return \"Unknown Crop\"\n",
    "\n",
    "# Call the function and print the result\n",
    "result = predict_crops()\n",
    "print(\"Prediction:\", result)\n"
   ]
  },
  {
   "cell_type": "code",
   "execution_count": null,
   "id": "c6fadc25-75d2-4e31-941c-e125f5910f2c",
   "metadata": {},
   "outputs": [],
   "source": []
  }
 ],
 "metadata": {
  "kernelspec": {
   "display_name": "Python 3 (ipykernel)",
   "language": "python",
   "name": "python3"
  },
  "language_info": {
   "codemirror_mode": {
    "name": "ipython",
    "version": 3
   },
   "file_extension": ".py",
   "mimetype": "text/x-python",
   "name": "python",
   "nbconvert_exporter": "python",
   "pygments_lexer": "ipython3",
   "version": "3.11.7"
  }
 },
 "nbformat": 4,
 "nbformat_minor": 5
}
